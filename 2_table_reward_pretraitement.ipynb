{
 "cells": [
  {
   "cell_type": "code",
   "execution_count": 1,
   "id": "46a8782a",
   "metadata": {},
   "outputs": [],
   "source": [
    "import pandas as pd\n",
    "import numpy as np\n",
    "import matplotlib.pyplot as plt\n",
    "import seaborn\n",
    "import os\n",
    "from datetime import datetime\n",
    "from joblib import dump, load\n",
    "from functools import reduce"
   ]
  },
  {
   "cell_type": "markdown",
   "id": "ee102f99",
   "metadata": {},
   "source": [
    "# Importation de la base de données REWARD_FACT\n"
   ]
  },
  {
   "cell_type": "code",
   "execution_count": 2,
   "id": "a92b3e85",
   "metadata": {},
   "outputs": [],
   "source": [
    "#precisser que MONTH_ID est un datetime au moment de l'importation\n",
    "df_reward = pd.read_csv(\"DATA_ORIGINAL/REWARD_FACT.csv\",\n",
    "                        parse_dates=['MONTH_ID'],\n",
    "                       date_parser=lambda x : datetime.strptime(x, \"%Y%m\"))"
   ]
  },
  {
   "cell_type": "code",
   "execution_count": 3,
   "id": "e5ff7c1c",
   "metadata": {},
   "outputs": [
    {
     "data": {
      "text/html": [
       "<div>\n",
       "<style scoped>\n",
       "    .dataframe tbody tr th:only-of-type {\n",
       "        vertical-align: middle;\n",
       "    }\n",
       "\n",
       "    .dataframe tbody tr th {\n",
       "        vertical-align: top;\n",
       "    }\n",
       "\n",
       "    .dataframe thead th {\n",
       "        text-align: right;\n",
       "    }\n",
       "</style>\n",
       "<table border=\"1\" class=\"dataframe\">\n",
       "  <thead>\n",
       "    <tr style=\"text-align: right;\">\n",
       "      <th></th>\n",
       "      <th>MEMBER_ID</th>\n",
       "      <th>MONTH_ID</th>\n",
       "      <th>REWARDS_CATEGORY</th>\n",
       "      <th>REDEMPTIONS</th>\n",
       "      <th>NUMBER_ITEMS_REDEEMED</th>\n",
       "      <th>POINTS_REDEEMED</th>\n",
       "    </tr>\n",
       "  </thead>\n",
       "  <tbody>\n",
       "    <tr>\n",
       "      <th>0</th>\n",
       "      <td>5885640</td>\n",
       "      <td>2020-02-01</td>\n",
       "      <td>Cash_Back</td>\n",
       "      <td>1</td>\n",
       "      <td>2</td>\n",
       "      <td>200</td>\n",
       "    </tr>\n",
       "    <tr>\n",
       "      <th>1</th>\n",
       "      <td>5885640</td>\n",
       "      <td>2019-04-01</td>\n",
       "      <td>Cash_Back</td>\n",
       "      <td>1</td>\n",
       "      <td>1</td>\n",
       "      <td>100</td>\n",
       "    </tr>\n",
       "    <tr>\n",
       "      <th>2</th>\n",
       "      <td>5885640</td>\n",
       "      <td>2020-07-01</td>\n",
       "      <td>Cash_Back</td>\n",
       "      <td>1</td>\n",
       "      <td>1</td>\n",
       "      <td>100</td>\n",
       "    </tr>\n",
       "    <tr>\n",
       "      <th>3</th>\n",
       "      <td>5889000</td>\n",
       "      <td>2020-09-01</td>\n",
       "      <td>Cash_Back</td>\n",
       "      <td>1</td>\n",
       "      <td>1</td>\n",
       "      <td>100</td>\n",
       "    </tr>\n",
       "    <tr>\n",
       "      <th>4</th>\n",
       "      <td>5889000</td>\n",
       "      <td>2021-03-01</td>\n",
       "      <td>Cash_Back</td>\n",
       "      <td>1</td>\n",
       "      <td>1</td>\n",
       "      <td>100</td>\n",
       "    </tr>\n",
       "  </tbody>\n",
       "</table>\n",
       "</div>"
      ],
      "text/plain": [
       "   MEMBER_ID   MONTH_ID REWARDS_CATEGORY  REDEMPTIONS  NUMBER_ITEMS_REDEEMED  \\\n",
       "0    5885640 2020-02-01        Cash_Back            1                      2   \n",
       "1    5885640 2019-04-01        Cash_Back            1                      1   \n",
       "2    5885640 2020-07-01        Cash_Back            1                      1   \n",
       "3    5889000 2020-09-01        Cash_Back            1                      1   \n",
       "4    5889000 2021-03-01        Cash_Back            1                      1   \n",
       "\n",
       "   POINTS_REDEEMED  \n",
       "0              200  \n",
       "1              100  \n",
       "2              100  \n",
       "3              100  \n",
       "4              100  "
      ]
     },
     "execution_count": 3,
     "metadata": {},
     "output_type": "execute_result"
    }
   ],
   "source": [
    "df_reward.head()"
   ]
  },
  {
   "cell_type": "code",
   "execution_count": 4,
   "id": "7df43582",
   "metadata": {},
   "outputs": [
    {
     "data": {
      "text/plain": [
       "(1896115, 6)"
      ]
     },
     "execution_count": 4,
     "metadata": {},
     "output_type": "execute_result"
    }
   ],
   "source": [
    "df_reward.shape"
   ]
  },
  {
   "cell_type": "code",
   "execution_count": 5,
   "id": "ebee47eb",
   "metadata": {},
   "outputs": [
    {
     "data": {
      "text/plain": [
       "0"
      ]
     },
     "execution_count": 5,
     "metadata": {},
     "output_type": "execute_result"
    }
   ],
   "source": [
    "# lignes dupliquées\n",
    "df_reward.duplicated().sum()"
   ]
  },
  {
   "cell_type": "markdown",
   "id": "1dbfe690",
   "metadata": {},
   "source": [
    "# Analyse exploratoire de la Base de Donnees"
   ]
  },
  {
   "cell_type": "code",
   "execution_count": 6,
   "id": "45437b18",
   "metadata": {},
   "outputs": [
    {
     "data": {
      "text/plain": [
       "MEMBER_ID                0.0\n",
       "MONTH_ID                 0.0\n",
       "REWARDS_CATEGORY         0.0\n",
       "REDEMPTIONS              0.0\n",
       "NUMBER_ITEMS_REDEEMED    0.0\n",
       "POINTS_REDEEMED          0.0\n",
       "dtype: float64"
      ]
     },
     "execution_count": 6,
     "metadata": {},
     "output_type": "execute_result"
    }
   ],
   "source": [
    "# pourcentage de valeurs manquantes de chaque variable\n",
    "df_reward.isnull().sum() / df_reward.shape[0] * 100"
   ]
  },
  {
   "cell_type": "code",
   "execution_count": 7,
   "id": "c5e29c4f",
   "metadata": {},
   "outputs": [
    {
     "data": {
      "text/plain": [
       "MEMBER_ID                         int64\n",
       "MONTH_ID                 datetime64[ns]\n",
       "REWARDS_CATEGORY                 object\n",
       "REDEMPTIONS                       int64\n",
       "NUMBER_ITEMS_REDEEMED             int64\n",
       "POINTS_REDEEMED                   int64\n",
       "dtype: object"
      ]
     },
     "execution_count": 7,
     "metadata": {},
     "output_type": "execute_result"
    }
   ],
   "source": [
    "# type de donnée de chaque variable \n",
    "df_reward.dtypes"
   ]
  },
  {
   "cell_type": "code",
   "execution_count": 8,
   "id": "e789f768",
   "metadata": {},
   "outputs": [],
   "source": [
    "pd.set_option('float_format', '{:f}'.format)"
   ]
  },
  {
   "cell_type": "code",
   "execution_count": 9,
   "id": "5bfe22b3",
   "metadata": {},
   "outputs": [
    {
     "data": {
      "text/html": [
       "<div>\n",
       "<style scoped>\n",
       "    .dataframe tbody tr th:only-of-type {\n",
       "        vertical-align: middle;\n",
       "    }\n",
       "\n",
       "    .dataframe tbody tr th {\n",
       "        vertical-align: top;\n",
       "    }\n",
       "\n",
       "    .dataframe thead th {\n",
       "        text-align: right;\n",
       "    }\n",
       "</style>\n",
       "<table border=\"1\" class=\"dataframe\">\n",
       "  <thead>\n",
       "    <tr style=\"text-align: right;\">\n",
       "      <th></th>\n",
       "      <th>REDEMPTIONS</th>\n",
       "      <th>NUMBER_ITEMS_REDEEMED</th>\n",
       "      <th>POINTS_REDEEMED</th>\n",
       "    </tr>\n",
       "  </thead>\n",
       "  <tbody>\n",
       "    <tr>\n",
       "      <th>count</th>\n",
       "      <td>1896115.000000</td>\n",
       "      <td>1896115.000000</td>\n",
       "      <td>1896115.000000</td>\n",
       "    </tr>\n",
       "    <tr>\n",
       "      <th>mean</th>\n",
       "      <td>1.209191</td>\n",
       "      <td>2.135465</td>\n",
       "      <td>378.649319</td>\n",
       "    </tr>\n",
       "    <tr>\n",
       "      <th>std</th>\n",
       "      <td>0.672475</td>\n",
       "      <td>3.602915</td>\n",
       "      <td>1104.658257</td>\n",
       "    </tr>\n",
       "    <tr>\n",
       "      <th>min</th>\n",
       "      <td>1.000000</td>\n",
       "      <td>1.000000</td>\n",
       "      <td>0.000000</td>\n",
       "    </tr>\n",
       "    <tr>\n",
       "      <th>25%</th>\n",
       "      <td>1.000000</td>\n",
       "      <td>1.000000</td>\n",
       "      <td>100.000000</td>\n",
       "    </tr>\n",
       "    <tr>\n",
       "      <th>50%</th>\n",
       "      <td>1.000000</td>\n",
       "      <td>1.000000</td>\n",
       "      <td>100.000000</td>\n",
       "    </tr>\n",
       "    <tr>\n",
       "      <th>75%</th>\n",
       "      <td>1.000000</td>\n",
       "      <td>2.000000</td>\n",
       "      <td>200.000000</td>\n",
       "    </tr>\n",
       "    <tr>\n",
       "      <th>max</th>\n",
       "      <td>62.000000</td>\n",
       "      <td>818.000000</td>\n",
       "      <td>107992.000000</td>\n",
       "    </tr>\n",
       "  </tbody>\n",
       "</table>\n",
       "</div>"
      ],
      "text/plain": [
       "         REDEMPTIONS  NUMBER_ITEMS_REDEEMED  POINTS_REDEEMED\n",
       "count 1896115.000000         1896115.000000   1896115.000000\n",
       "mean        1.209191               2.135465       378.649319\n",
       "std         0.672475               3.602915      1104.658257\n",
       "min         1.000000               1.000000         0.000000\n",
       "25%         1.000000               1.000000       100.000000\n",
       "50%         1.000000               1.000000       100.000000\n",
       "75%         1.000000               2.000000       200.000000\n",
       "max        62.000000             818.000000    107992.000000"
      ]
     },
     "execution_count": 9,
     "metadata": {},
     "output_type": "execute_result"
    }
   ],
   "source": [
    "# statistique descriptives variables numériques\n",
    "df_reward.drop('MEMBER_ID', axis=1).describe()"
   ]
  },
  {
   "cell_type": "code",
   "execution_count": 10,
   "id": "5728b97c",
   "metadata": {},
   "outputs": [
    {
     "data": {
      "text/plain": [
       "REDEMPTIONS                1\n",
       "NUMBER_ITEMS_REDEEMED      1\n",
       "POINTS_REDEEMED          100\n",
       "Name: 0, dtype: int64"
      ]
     },
     "execution_count": 10,
     "metadata": {},
     "output_type": "execute_result"
    }
   ],
   "source": [
    "mode = df_reward.drop('MEMBER_ID', axis=1).mode(numeric_only=True).loc[0]\n",
    "mode"
   ]
  },
  {
   "cell_type": "code",
   "execution_count": 11,
   "id": "890f715b",
   "metadata": {},
   "outputs": [
    {
     "data": {
      "text/html": [
       "<div>\n",
       "<style scoped>\n",
       "    .dataframe tbody tr th:only-of-type {\n",
       "        vertical-align: middle;\n",
       "    }\n",
       "\n",
       "    .dataframe tbody tr th {\n",
       "        vertical-align: top;\n",
       "    }\n",
       "\n",
       "    .dataframe thead th {\n",
       "        text-align: right;\n",
       "    }\n",
       "</style>\n",
       "<table border=\"1\" class=\"dataframe\">\n",
       "  <thead>\n",
       "    <tr style=\"text-align: right;\">\n",
       "      <th></th>\n",
       "      <th>REWARDS_CATEGORY</th>\n",
       "    </tr>\n",
       "  </thead>\n",
       "  <tbody>\n",
       "    <tr>\n",
       "      <th>count</th>\n",
       "      <td>1896115</td>\n",
       "    </tr>\n",
       "    <tr>\n",
       "      <th>unique</th>\n",
       "      <td>3</td>\n",
       "    </tr>\n",
       "    <tr>\n",
       "      <th>top</th>\n",
       "      <td>Cash_Back</td>\n",
       "    </tr>\n",
       "    <tr>\n",
       "      <th>freq</th>\n",
       "      <td>1791124</td>\n",
       "    </tr>\n",
       "  </tbody>\n",
       "</table>\n",
       "</div>"
      ],
      "text/plain": [
       "       REWARDS_CATEGORY\n",
       "count           1896115\n",
       "unique                3\n",
       "top           Cash_Back\n",
       "freq            1791124"
      ]
     },
     "execution_count": 11,
     "metadata": {},
     "output_type": "execute_result"
    }
   ],
   "source": [
    "# statistique descriptives variables caractères\n",
    "df_reward.describe(include=[object])"
   ]
  },
  {
   "cell_type": "markdown",
   "id": "88893acb",
   "metadata": {},
   "source": [
    "## <span style='background :yellow' > Variable MEMBER_ID </span>"
   ]
  },
  {
   "cell_type": "code",
   "execution_count": 12,
   "id": "ed1bcfe1",
   "metadata": {},
   "outputs": [
    {
     "name": "stdout",
     "output_type": "stream",
     "text": [
      "On a de l'information sur: 399254 clients\n"
     ]
    }
   ],
   "source": [
    "#cette base de données ne conserve pas tous les membres, uniquement les membre qui ont utilisé leurs points\n",
    "#sur un periode 3 ans \n",
    "nb_member_uniques= df_reward.MEMBER_ID.nunique()\n",
    "print(\"On a de l'information sur:\" , nb_member_uniques ,'clients')"
   ]
  },
  {
   "cell_type": "markdown",
   "id": "062cf5d2",
   "metadata": {},
   "source": [
    "## <span style='background :yellow' > Variable MONTH_ID </span>"
   ]
  },
  {
   "cell_type": "code",
   "execution_count": 13,
   "id": "02902cfe",
   "metadata": {},
   "outputs": [],
   "source": [
    " df_reward['MONTH_ID'] = df_reward[\"MONTH_ID\"].dt.to_period(\"M\")"
   ]
  },
  {
   "cell_type": "code",
   "execution_count": 14,
   "id": "2256bba3",
   "metadata": {},
   "outputs": [
    {
     "data": {
      "text/html": [
       "<div>\n",
       "<style scoped>\n",
       "    .dataframe tbody tr th:only-of-type {\n",
       "        vertical-align: middle;\n",
       "    }\n",
       "\n",
       "    .dataframe tbody tr th {\n",
       "        vertical-align: top;\n",
       "    }\n",
       "\n",
       "    .dataframe thead th {\n",
       "        text-align: right;\n",
       "    }\n",
       "</style>\n",
       "<table border=\"1\" class=\"dataframe\">\n",
       "  <thead>\n",
       "    <tr style=\"text-align: right;\">\n",
       "      <th></th>\n",
       "      <th>MEMBER_ID</th>\n",
       "      <th>MONTH_ID</th>\n",
       "      <th>REWARDS_CATEGORY</th>\n",
       "      <th>REDEMPTIONS</th>\n",
       "      <th>NUMBER_ITEMS_REDEEMED</th>\n",
       "      <th>POINTS_REDEEMED</th>\n",
       "    </tr>\n",
       "  </thead>\n",
       "  <tbody>\n",
       "    <tr>\n",
       "      <th>0</th>\n",
       "      <td>5885640</td>\n",
       "      <td>2020-02</td>\n",
       "      <td>Cash_Back</td>\n",
       "      <td>1</td>\n",
       "      <td>2</td>\n",
       "      <td>200</td>\n",
       "    </tr>\n",
       "    <tr>\n",
       "      <th>1</th>\n",
       "      <td>5885640</td>\n",
       "      <td>2019-04</td>\n",
       "      <td>Cash_Back</td>\n",
       "      <td>1</td>\n",
       "      <td>1</td>\n",
       "      <td>100</td>\n",
       "    </tr>\n",
       "    <tr>\n",
       "      <th>2</th>\n",
       "      <td>5885640</td>\n",
       "      <td>2020-07</td>\n",
       "      <td>Cash_Back</td>\n",
       "      <td>1</td>\n",
       "      <td>1</td>\n",
       "      <td>100</td>\n",
       "    </tr>\n",
       "    <tr>\n",
       "      <th>3</th>\n",
       "      <td>5889000</td>\n",
       "      <td>2020-09</td>\n",
       "      <td>Cash_Back</td>\n",
       "      <td>1</td>\n",
       "      <td>1</td>\n",
       "      <td>100</td>\n",
       "    </tr>\n",
       "    <tr>\n",
       "      <th>4</th>\n",
       "      <td>5889000</td>\n",
       "      <td>2021-03</td>\n",
       "      <td>Cash_Back</td>\n",
       "      <td>1</td>\n",
       "      <td>1</td>\n",
       "      <td>100</td>\n",
       "    </tr>\n",
       "  </tbody>\n",
       "</table>\n",
       "</div>"
      ],
      "text/plain": [
       "   MEMBER_ID MONTH_ID REWARDS_CATEGORY  REDEMPTIONS  NUMBER_ITEMS_REDEEMED  \\\n",
       "0    5885640  2020-02        Cash_Back            1                      2   \n",
       "1    5885640  2019-04        Cash_Back            1                      1   \n",
       "2    5885640  2020-07        Cash_Back            1                      1   \n",
       "3    5889000  2020-09        Cash_Back            1                      1   \n",
       "4    5889000  2021-03        Cash_Back            1                      1   \n",
       "\n",
       "   POINTS_REDEEMED  \n",
       "0              200  \n",
       "1              100  \n",
       "2              100  \n",
       "3              100  \n",
       "4              100  "
      ]
     },
     "execution_count": 14,
     "metadata": {},
     "output_type": "execute_result"
    }
   ],
   "source": [
    "df_reward.head()"
   ]
  },
  {
   "cell_type": "code",
   "execution_count": 15,
   "id": "776c788e",
   "metadata": {},
   "outputs": [
    {
     "data": {
      "text/plain": [
       "2020-12    82957\n",
       "2019-12    78804\n",
       "2019-06    72518\n",
       "2019-05    71108\n",
       "2019-07    68763\n",
       "2020-01    63241\n",
       "2020-10    62716\n",
       "2019-11    62566\n",
       "2020-11    62170\n",
       "2020-06    61538\n",
       "2019-10    61493\n",
       "2019-01    61445\n",
       "2019-03    61236\n",
       "2021-04    61224\n",
       "2019-08    61019\n",
       "2021-03    60750\n",
       "2020-07    60602\n",
       "2020-08    60584\n",
       "2019-09    59893\n",
       "2021-05    59623\n",
       "2020-02    59085\n",
       "2020-09    58681\n",
       "2021-01    56861\n",
       "2020-03    55293\n",
       "2021-02    55229\n",
       "2019-04    52297\n",
       "2019-02    51267\n",
       "2020-05    51246\n",
       "2021-06    48581\n",
       "2020-04    40630\n",
       "2021-07    32172\n",
       "2021-08    11303\n",
       "2021-09    10313\n",
       "2021-10     9708\n",
       "2021-11     5201\n",
       "2021-12     3998\n",
       "Freq: M, Name: MONTH_ID, dtype: int64"
      ]
     },
     "execution_count": 15,
     "metadata": {},
     "output_type": "execute_result"
    }
   ],
   "source": [
    "df_reward[\"MONTH_ID\"].value_counts(dropna=False)"
   ]
  },
  {
   "cell_type": "markdown",
   "id": "4cb52503",
   "metadata": {},
   "source": [
    "## <span style='background :yellow' > Variable REWARDS_CATEGORY </span>"
   ]
  },
  {
   "cell_type": "code",
   "execution_count": 16,
   "id": "304b96b4",
   "metadata": {},
   "outputs": [
    {
     "data": {
      "text/plain": [
       "Cash_Back            1791124\n",
       "REWARD_CATEGORY_2      92376\n",
       "REWARD_CATEGORY_3      12615\n",
       "Name: REWARDS_CATEGORY, dtype: int64"
      ]
     },
     "execution_count": 16,
     "metadata": {},
     "output_type": "execute_result"
    }
   ],
   "source": [
    "df_reward.REWARDS_CATEGORY.value_counts()"
   ]
  },
  {
   "cell_type": "code",
   "execution_count": 17,
   "id": "8cdd12e0",
   "metadata": {},
   "outputs": [
    {
     "data": {
      "text/plain": [
       "Cash_Back           94.462836\n",
       "REWARD_CATEGORY_2    4.871856\n",
       "REWARD_CATEGORY_3    0.665308\n",
       "Name: REWARDS_CATEGORY, dtype: float64"
      ]
     },
     "execution_count": 17,
     "metadata": {},
     "output_type": "execute_result"
    }
   ],
   "source": [
    "# variable ne varie pas assez, on ne va pas l'utiliser dans la segmentation \n",
    "df_reward.REWARDS_CATEGORY.value_counts() / df_reward.shape[0] * 100"
   ]
  },
  {
   "cell_type": "code",
   "execution_count": 18,
   "id": "720a84c1",
   "metadata": {},
   "outputs": [],
   "source": [
    "df_reward.drop('REWARDS_CATEGORY', axis=1, inplace=True)"
   ]
  },
  {
   "cell_type": "code",
   "execution_count": 19,
   "id": "581151ec",
   "metadata": {},
   "outputs": [],
   "source": [
    " #df_reward['REWARDS_CATEGORY'] = np.where(df_reward.REWARDS_CATEGORY != 'Cash_Back', 'REWARD_CATEGORIES', df_reward.REWARDS_CATEGORY)"
   ]
  },
  {
   "cell_type": "code",
   "execution_count": 20,
   "id": "80c59126",
   "metadata": {},
   "outputs": [],
   "source": [
    " #df_reward.REWARDS_CATEGORY.value_counts() / df_reward.shape[0] * 100"
   ]
  },
  {
   "cell_type": "markdown",
   "id": "508b60cf",
   "metadata": {},
   "source": [
    "## <span style='background :yellow' > Variable REDEMPTIONS </span>\n",
    "\n",
    "Nombre de redemptions pour le mois et la catégorie\n",
    "\n",
    "ex: le membre s'est presente 5 fois a la caisse pour avoir de Cash_Back"
   ]
  },
  {
   "cell_type": "code",
   "execution_count": 21,
   "id": "4d2633d2",
   "metadata": {},
   "outputs": [
    {
     "data": {
      "text/plain": [
       "array([ 1,  2,  3,  4,  6,  5, 11,  8,  7, 18, 16,  9, 12, 10, 13, 15, 14,\n",
       "       19, 38, 22, 48, 23, 25, 17, 20, 21, 31, 37, 28, 27, 32, 26, 30, 46,\n",
       "       42, 45, 24, 62, 44, 43, 29, 52], dtype=int64)"
      ]
     },
     "execution_count": 21,
     "metadata": {},
     "output_type": "execute_result"
    }
   ],
   "source": [
    "df_reward.REDEMPTIONS.unique()"
   ]
  },
  {
   "cell_type": "markdown",
   "id": "27bcfd76",
   "metadata": {},
   "source": [
    "## <span style='background :yellow' > Variable NUMBER_ITEMS_REDEEMED </span>\n"
   ]
  },
  {
   "cell_type": "code",
   "execution_count": 22,
   "id": "1ddba68b",
   "metadata": {},
   "outputs": [
    {
     "data": {
      "text/plain": [
       "array([  2,   1,   8,  12,  10,   6,  13,   4,   3,  81,  38,  11,  32,\n",
       "        17,   7,   5,  26,  19,  18,  20,   9,  23,  16,  14,  22,  15,\n",
       "        25,  67,  24,  21, 175,  27,  35,  29,  30,  33,  50,  45,  37,\n",
       "        40,  48,  55,  58,  31,  56,  34, 132,  43,  44,  42,  51,  28,\n",
       "       117,  39,  41, 158, 150,  64,  53,  46,  49,  63,  54,  89, 125,\n",
       "        70,  66,  36,  59,  75,  57,  99,  76,  62,  92,  95,  80,  47,\n",
       "       818, 102, 214,  97, 109, 114,  77,  94,  65,  74,  86,  83, 107,\n",
       "        52,  88, 188,  60, 145,  79, 100, 110, 108, 124,  90,  61,  71,\n",
       "        96,  68,  72, 162, 148, 103,  69, 101,  78, 154,  73,  91, 138,\n",
       "       151, 122,  93, 218, 120, 167, 111, 205, 155,  85,  82, 166, 208,\n",
       "       178, 320, 324, 253, 139, 340, 157, 292, 236, 163, 210, 186, 123,\n",
       "       240, 386, 265, 246, 420, 232, 245, 247, 281, 171, 277, 190, 180,\n",
       "       254, 297, 116, 177,  84, 112, 104, 134, 212,  87, 152, 130, 164,\n",
       "       197, 165,  98, 156, 191, 133, 140, 274, 160, 161, 105, 127, 184,\n",
       "       192, 113, 357, 143, 172, 119, 118, 128, 115, 126, 106, 183, 225],\n",
       "      dtype=int64)"
      ]
     },
     "execution_count": 22,
     "metadata": {},
     "output_type": "execute_result"
    }
   ],
   "source": [
    "df_reward.NUMBER_ITEMS_REDEEMED.unique()"
   ]
  },
  {
   "cell_type": "markdown",
   "id": "6af6518d",
   "metadata": {},
   "source": [
    "## <span style='background :yellow' > Variable POINTS_REDEEMED </span>\n"
   ]
  },
  {
   "cell_type": "code",
   "execution_count": 23,
   "id": "58f7a2c9",
   "metadata": {},
   "outputs": [
    {
     "data": {
      "text/plain": [
       "0"
      ]
     },
     "execution_count": 23,
     "metadata": {},
     "output_type": "execute_result"
    }
   ],
   "source": [
    "df_reward.POINTS_REDEEMED.min()"
   ]
  },
  {
   "cell_type": "code",
   "execution_count": 24,
   "id": "18c2cd79",
   "metadata": {},
   "outputs": [
    {
     "data": {
      "text/plain": [
       "107992"
      ]
     },
     "execution_count": 24,
     "metadata": {},
     "output_type": "execute_result"
    }
   ],
   "source": [
    "df_reward.POINTS_REDEEMED.max()"
   ]
  },
  {
   "cell_type": "code",
   "execution_count": 25,
   "id": "deeed410",
   "metadata": {},
   "outputs": [
    {
     "data": {
      "text/html": [
       "<div>\n",
       "<style scoped>\n",
       "    .dataframe tbody tr th:only-of-type {\n",
       "        vertical-align: middle;\n",
       "    }\n",
       "\n",
       "    .dataframe tbody tr th {\n",
       "        vertical-align: top;\n",
       "    }\n",
       "\n",
       "    .dataframe thead th {\n",
       "        text-align: right;\n",
       "    }\n",
       "</style>\n",
       "<table border=\"1\" class=\"dataframe\">\n",
       "  <thead>\n",
       "    <tr style=\"text-align: right;\">\n",
       "      <th></th>\n",
       "      <th>MEMBER_ID</th>\n",
       "      <th>MONTH_ID</th>\n",
       "      <th>REDEMPTIONS</th>\n",
       "      <th>NUMBER_ITEMS_REDEEMED</th>\n",
       "      <th>POINTS_REDEEMED</th>\n",
       "    </tr>\n",
       "  </thead>\n",
       "  <tbody>\n",
       "    <tr>\n",
       "      <th>678007</th>\n",
       "      <td>1016014448</td>\n",
       "      <td>2020-01</td>\n",
       "      <td>1</td>\n",
       "      <td>2</td>\n",
       "      <td>0</td>\n",
       "    </tr>\n",
       "  </tbody>\n",
       "</table>\n",
       "</div>"
      ],
      "text/plain": [
       "         MEMBER_ID MONTH_ID  REDEMPTIONS  NUMBER_ITEMS_REDEEMED  \\\n",
       "678007  1016014448  2020-01            1                      2   \n",
       "\n",
       "        POINTS_REDEEMED  \n",
       "678007                0  "
      ]
     },
     "execution_count": 25,
     "metadata": {},
     "output_type": "execute_result"
    }
   ],
   "source": [
    "#rédemption mais pas de points associés\n",
    "df_reward[(df_reward['NUMBER_ITEMS_REDEEMED']==0) | (df_reward['POINTS_REDEEMED']==0)]"
   ]
  },
  {
   "cell_type": "code",
   "execution_count": 26,
   "id": "c87bd92d",
   "metadata": {},
   "outputs": [],
   "source": [
    "idx_to_remove = df_reward[(df_reward['NUMBER_ITEMS_REDEEMED']==0) | (df_reward['POINTS_REDEEMED']==0)].index"
   ]
  },
  {
   "cell_type": "code",
   "execution_count": 27,
   "id": "be415d84",
   "metadata": {},
   "outputs": [],
   "source": [
    "df_reward.drop(idx_to_remove, inplace=True)"
   ]
  },
  {
   "cell_type": "markdown",
   "id": "88b0bc24",
   "metadata": {},
   "source": [
    "#  Creation de Variables \n"
   ]
  },
  {
   "cell_type": "markdown",
   "id": "32b41ffa",
   "metadata": {},
   "source": [
    "## <span style='background :yellow' > Variable PTS_RDMED_PCT_CHANGE_2021 </span>\n",
    "\n",
    "Points Redeemed Change 2020/2021\n",
    "\n"
   ]
  },
  {
   "cell_type": "code",
   "execution_count": 28,
   "id": "3c086ef3",
   "metadata": {},
   "outputs": [],
   "source": [
    "#on cherhce le Year\n",
    "df_reward['Year'] = df_reward['MONTH_ID'].apply(lambda x : int(x.year))"
   ]
  },
  {
   "cell_type": "code",
   "execution_count": 29,
   "id": "69aa363d",
   "metadata": {},
   "outputs": [
    {
     "data": {
      "text/html": [
       "<div>\n",
       "<style scoped>\n",
       "    .dataframe tbody tr th:only-of-type {\n",
       "        vertical-align: middle;\n",
       "    }\n",
       "\n",
       "    .dataframe tbody tr th {\n",
       "        vertical-align: top;\n",
       "    }\n",
       "\n",
       "    .dataframe thead th {\n",
       "        text-align: right;\n",
       "    }\n",
       "</style>\n",
       "<table border=\"1\" class=\"dataframe\">\n",
       "  <thead>\n",
       "    <tr style=\"text-align: right;\">\n",
       "      <th></th>\n",
       "      <th>MEMBER_ID</th>\n",
       "      <th>MONTH_ID</th>\n",
       "      <th>REDEMPTIONS</th>\n",
       "      <th>NUMBER_ITEMS_REDEEMED</th>\n",
       "      <th>POINTS_REDEEMED</th>\n",
       "      <th>Year</th>\n",
       "    </tr>\n",
       "  </thead>\n",
       "  <tbody>\n",
       "    <tr>\n",
       "      <th>0</th>\n",
       "      <td>5885640</td>\n",
       "      <td>2020-02</td>\n",
       "      <td>1</td>\n",
       "      <td>2</td>\n",
       "      <td>200</td>\n",
       "      <td>2020</td>\n",
       "    </tr>\n",
       "    <tr>\n",
       "      <th>1</th>\n",
       "      <td>5885640</td>\n",
       "      <td>2019-04</td>\n",
       "      <td>1</td>\n",
       "      <td>1</td>\n",
       "      <td>100</td>\n",
       "      <td>2019</td>\n",
       "    </tr>\n",
       "    <tr>\n",
       "      <th>2</th>\n",
       "      <td>5885640</td>\n",
       "      <td>2020-07</td>\n",
       "      <td>1</td>\n",
       "      <td>1</td>\n",
       "      <td>100</td>\n",
       "      <td>2020</td>\n",
       "    </tr>\n",
       "    <tr>\n",
       "      <th>3</th>\n",
       "      <td>5889000</td>\n",
       "      <td>2020-09</td>\n",
       "      <td>1</td>\n",
       "      <td>1</td>\n",
       "      <td>100</td>\n",
       "      <td>2020</td>\n",
       "    </tr>\n",
       "    <tr>\n",
       "      <th>4</th>\n",
       "      <td>5889000</td>\n",
       "      <td>2021-03</td>\n",
       "      <td>1</td>\n",
       "      <td>1</td>\n",
       "      <td>100</td>\n",
       "      <td>2021</td>\n",
       "    </tr>\n",
       "  </tbody>\n",
       "</table>\n",
       "</div>"
      ],
      "text/plain": [
       "   MEMBER_ID MONTH_ID  REDEMPTIONS  NUMBER_ITEMS_REDEEMED  POINTS_REDEEMED  \\\n",
       "0    5885640  2020-02            1                      2              200   \n",
       "1    5885640  2019-04            1                      1              100   \n",
       "2    5885640  2020-07            1                      1              100   \n",
       "3    5889000  2020-09            1                      1              100   \n",
       "4    5889000  2021-03            1                      1              100   \n",
       "\n",
       "   Year  \n",
       "0  2020  \n",
       "1  2019  \n",
       "2  2020  \n",
       "3  2020  \n",
       "4  2021  "
      ]
     },
     "execution_count": 29,
     "metadata": {},
     "output_type": "execute_result"
    }
   ],
   "source": [
    "df_reward.head()"
   ]
  },
  {
   "cell_type": "code",
   "execution_count": 30,
   "id": "bcf75819",
   "metadata": {},
   "outputs": [],
   "source": [
    "#points par MEMBER_ID et Year\n",
    "df_reward_pct = df_reward.groupby(['MEMBER_ID', 'Year'], as_index=False)[['POINTS_REDEEMED']].sum()"
   ]
  },
  {
   "cell_type": "code",
   "execution_count": 31,
   "id": "faab0ec9",
   "metadata": {},
   "outputs": [
    {
     "data": {
      "text/html": [
       "<div>\n",
       "<style scoped>\n",
       "    .dataframe tbody tr th:only-of-type {\n",
       "        vertical-align: middle;\n",
       "    }\n",
       "\n",
       "    .dataframe tbody tr th {\n",
       "        vertical-align: top;\n",
       "    }\n",
       "\n",
       "    .dataframe thead th {\n",
       "        text-align: right;\n",
       "    }\n",
       "</style>\n",
       "<table border=\"1\" class=\"dataframe\">\n",
       "  <thead>\n",
       "    <tr style=\"text-align: right;\">\n",
       "      <th></th>\n",
       "      <th>MEMBER_ID</th>\n",
       "      <th>Year</th>\n",
       "      <th>POINTS_REDEEMED</th>\n",
       "    </tr>\n",
       "  </thead>\n",
       "  <tbody>\n",
       "    <tr>\n",
       "      <th>0</th>\n",
       "      <td>170</td>\n",
       "      <td>2021</td>\n",
       "      <td>835</td>\n",
       "    </tr>\n",
       "    <tr>\n",
       "      <th>1</th>\n",
       "      <td>184</td>\n",
       "      <td>2019</td>\n",
       "      <td>1800</td>\n",
       "    </tr>\n",
       "    <tr>\n",
       "      <th>2</th>\n",
       "      <td>184</td>\n",
       "      <td>2020</td>\n",
       "      <td>1500</td>\n",
       "    </tr>\n",
       "    <tr>\n",
       "      <th>3</th>\n",
       "      <td>184</td>\n",
       "      <td>2021</td>\n",
       "      <td>700</td>\n",
       "    </tr>\n",
       "    <tr>\n",
       "      <th>4</th>\n",
       "      <td>186</td>\n",
       "      <td>2020</td>\n",
       "      <td>2251</td>\n",
       "    </tr>\n",
       "  </tbody>\n",
       "</table>\n",
       "</div>"
      ],
      "text/plain": [
       "   MEMBER_ID  Year  POINTS_REDEEMED\n",
       "0        170  2021              835\n",
       "1        184  2019             1800\n",
       "2        184  2020             1500\n",
       "3        184  2021              700\n",
       "4        186  2020             2251"
      ]
     },
     "execution_count": 31,
     "metadata": {},
     "output_type": "execute_result"
    }
   ],
   "source": [
    "df_reward_pct.head()"
   ]
  },
  {
   "cell_type": "code",
   "execution_count": 32,
   "id": "fbb5fe41",
   "metadata": {},
   "outputs": [],
   "source": [
    "#Variation en pourcentage\n",
    "df_reward_pct['POINTS_REDEEMED_PCT_CHANGE'] = df_reward_pct.groupby('MEMBER_ID')['POINTS_REDEEMED'].pct_change().fillna(0)"
   ]
  },
  {
   "cell_type": "code",
   "execution_count": 33,
   "id": "48c216f7",
   "metadata": {},
   "outputs": [
    {
     "data": {
      "text/html": [
       "<div>\n",
       "<style scoped>\n",
       "    .dataframe tbody tr th:only-of-type {\n",
       "        vertical-align: middle;\n",
       "    }\n",
       "\n",
       "    .dataframe tbody tr th {\n",
       "        vertical-align: top;\n",
       "    }\n",
       "\n",
       "    .dataframe thead th {\n",
       "        text-align: right;\n",
       "    }\n",
       "</style>\n",
       "<table border=\"1\" class=\"dataframe\">\n",
       "  <thead>\n",
       "    <tr style=\"text-align: right;\">\n",
       "      <th></th>\n",
       "      <th>MEMBER_ID</th>\n",
       "      <th>Year</th>\n",
       "      <th>POINTS_REDEEMED</th>\n",
       "      <th>POINTS_REDEEMED_PCT_CHANGE</th>\n",
       "    </tr>\n",
       "  </thead>\n",
       "  <tbody>\n",
       "    <tr>\n",
       "      <th>0</th>\n",
       "      <td>170</td>\n",
       "      <td>2021</td>\n",
       "      <td>835</td>\n",
       "      <td>0.000000</td>\n",
       "    </tr>\n",
       "    <tr>\n",
       "      <th>1</th>\n",
       "      <td>184</td>\n",
       "      <td>2019</td>\n",
       "      <td>1800</td>\n",
       "      <td>0.000000</td>\n",
       "    </tr>\n",
       "    <tr>\n",
       "      <th>2</th>\n",
       "      <td>184</td>\n",
       "      <td>2020</td>\n",
       "      <td>1500</td>\n",
       "      <td>-0.166667</td>\n",
       "    </tr>\n",
       "    <tr>\n",
       "      <th>3</th>\n",
       "      <td>184</td>\n",
       "      <td>2021</td>\n",
       "      <td>700</td>\n",
       "      <td>-0.533333</td>\n",
       "    </tr>\n",
       "    <tr>\n",
       "      <th>4</th>\n",
       "      <td>186</td>\n",
       "      <td>2020</td>\n",
       "      <td>2251</td>\n",
       "      <td>0.000000</td>\n",
       "    </tr>\n",
       "    <tr>\n",
       "      <th>5</th>\n",
       "      <td>186</td>\n",
       "      <td>2021</td>\n",
       "      <td>600</td>\n",
       "      <td>-0.733452</td>\n",
       "    </tr>\n",
       "    <tr>\n",
       "      <th>6</th>\n",
       "      <td>255</td>\n",
       "      <td>2019</td>\n",
       "      <td>200</td>\n",
       "      <td>0.000000</td>\n",
       "    </tr>\n",
       "    <tr>\n",
       "      <th>7</th>\n",
       "      <td>255</td>\n",
       "      <td>2020</td>\n",
       "      <td>400</td>\n",
       "      <td>1.000000</td>\n",
       "    </tr>\n",
       "    <tr>\n",
       "      <th>8</th>\n",
       "      <td>255</td>\n",
       "      <td>2021</td>\n",
       "      <td>100</td>\n",
       "      <td>-0.750000</td>\n",
       "    </tr>\n",
       "    <tr>\n",
       "      <th>9</th>\n",
       "      <td>311</td>\n",
       "      <td>2019</td>\n",
       "      <td>100</td>\n",
       "      <td>0.000000</td>\n",
       "    </tr>\n",
       "  </tbody>\n",
       "</table>\n",
       "</div>"
      ],
      "text/plain": [
       "   MEMBER_ID  Year  POINTS_REDEEMED  POINTS_REDEEMED_PCT_CHANGE\n",
       "0        170  2021              835                    0.000000\n",
       "1        184  2019             1800                    0.000000\n",
       "2        184  2020             1500                   -0.166667\n",
       "3        184  2021              700                   -0.533333\n",
       "4        186  2020             2251                    0.000000\n",
       "5        186  2021              600                   -0.733452\n",
       "6        255  2019              200                    0.000000\n",
       "7        255  2020              400                    1.000000\n",
       "8        255  2021              100                   -0.750000\n",
       "9        311  2019              100                    0.000000"
      ]
     },
     "execution_count": 33,
     "metadata": {},
     "output_type": "execute_result"
    }
   ],
   "source": [
    "df_reward_pct.head(10)"
   ]
  },
  {
   "cell_type": "code",
   "execution_count": 34,
   "id": "bbf8757d",
   "metadata": {},
   "outputs": [
    {
     "data": {
      "text/plain": [
       "(776665, 4)"
      ]
     },
     "execution_count": 34,
     "metadata": {},
     "output_type": "execute_result"
    }
   ],
   "source": [
    "df_reward_pct.shape"
   ]
  },
  {
   "cell_type": "code",
   "execution_count": 35,
   "id": "d60b63dd",
   "metadata": {},
   "outputs": [],
   "source": [
    "#pivot pour avoir un year par colonne\n",
    "# fillna(0) pour remplacer les nan des members id qui n'ont eu de pts redeemed pour l'année en question\n",
    "df_reward_pct_pivot = df_reward_pct.pivot_table(index='MEMBER_ID', \n",
    "                                               columns='Year',\n",
    "                                               values='POINTS_REDEEMED_PCT_CHANGE').fillna(0) # 'POINTS_REDEEMED_PCT_CHANGE'"
   ]
  },
  {
   "cell_type": "code",
   "execution_count": 36,
   "id": "f1f19998",
   "metadata": {},
   "outputs": [
    {
     "data": {
      "text/html": [
       "<div>\n",
       "<style scoped>\n",
       "    .dataframe tbody tr th:only-of-type {\n",
       "        vertical-align: middle;\n",
       "    }\n",
       "\n",
       "    .dataframe tbody tr th {\n",
       "        vertical-align: top;\n",
       "    }\n",
       "\n",
       "    .dataframe thead th {\n",
       "        text-align: right;\n",
       "    }\n",
       "</style>\n",
       "<table border=\"1\" class=\"dataframe\">\n",
       "  <thead>\n",
       "    <tr style=\"text-align: right;\">\n",
       "      <th>Year</th>\n",
       "      <th>2019</th>\n",
       "      <th>2020</th>\n",
       "      <th>2021</th>\n",
       "    </tr>\n",
       "    <tr>\n",
       "      <th>MEMBER_ID</th>\n",
       "      <th></th>\n",
       "      <th></th>\n",
       "      <th></th>\n",
       "    </tr>\n",
       "  </thead>\n",
       "  <tbody>\n",
       "    <tr>\n",
       "      <th>170</th>\n",
       "      <td>0.000000</td>\n",
       "      <td>0.000000</td>\n",
       "      <td>0.000000</td>\n",
       "    </tr>\n",
       "    <tr>\n",
       "      <th>184</th>\n",
       "      <td>0.000000</td>\n",
       "      <td>-0.166667</td>\n",
       "      <td>-0.533333</td>\n",
       "    </tr>\n",
       "    <tr>\n",
       "      <th>186</th>\n",
       "      <td>0.000000</td>\n",
       "      <td>0.000000</td>\n",
       "      <td>-0.733452</td>\n",
       "    </tr>\n",
       "    <tr>\n",
       "      <th>255</th>\n",
       "      <td>0.000000</td>\n",
       "      <td>1.000000</td>\n",
       "      <td>-0.750000</td>\n",
       "    </tr>\n",
       "    <tr>\n",
       "      <th>311</th>\n",
       "      <td>0.000000</td>\n",
       "      <td>1.000000</td>\n",
       "      <td>0.000000</td>\n",
       "    </tr>\n",
       "    <tr>\n",
       "      <th>...</th>\n",
       "      <td>...</td>\n",
       "      <td>...</td>\n",
       "      <td>...</td>\n",
       "    </tr>\n",
       "    <tr>\n",
       "      <th>1018321802</th>\n",
       "      <td>0.000000</td>\n",
       "      <td>0.000000</td>\n",
       "      <td>0.000000</td>\n",
       "    </tr>\n",
       "    <tr>\n",
       "      <th>1018362128</th>\n",
       "      <td>0.000000</td>\n",
       "      <td>0.000000</td>\n",
       "      <td>0.000000</td>\n",
       "    </tr>\n",
       "    <tr>\n",
       "      <th>1018370821</th>\n",
       "      <td>0.000000</td>\n",
       "      <td>0.000000</td>\n",
       "      <td>0.000000</td>\n",
       "    </tr>\n",
       "    <tr>\n",
       "      <th>1018371389</th>\n",
       "      <td>0.000000</td>\n",
       "      <td>0.000000</td>\n",
       "      <td>0.000000</td>\n",
       "    </tr>\n",
       "    <tr>\n",
       "      <th>1018381985</th>\n",
       "      <td>0.000000</td>\n",
       "      <td>0.000000</td>\n",
       "      <td>0.000000</td>\n",
       "    </tr>\n",
       "  </tbody>\n",
       "</table>\n",
       "<p>399254 rows × 3 columns</p>\n",
       "</div>"
      ],
      "text/plain": [
       "Year           2019      2020      2021\n",
       "MEMBER_ID                              \n",
       "170        0.000000  0.000000  0.000000\n",
       "184        0.000000 -0.166667 -0.533333\n",
       "186        0.000000  0.000000 -0.733452\n",
       "255        0.000000  1.000000 -0.750000\n",
       "311        0.000000  1.000000  0.000000\n",
       "...             ...       ...       ...\n",
       "1018321802 0.000000  0.000000  0.000000\n",
       "1018362128 0.000000  0.000000  0.000000\n",
       "1018370821 0.000000  0.000000  0.000000\n",
       "1018371389 0.000000  0.000000  0.000000\n",
       "1018381985 0.000000  0.000000  0.000000\n",
       "\n",
       "[399254 rows x 3 columns]"
      ]
     },
     "execution_count": 36,
     "metadata": {},
     "output_type": "execute_result"
    }
   ],
   "source": [
    "df_reward_pct_pivot"
   ]
  },
  {
   "cell_type": "code",
   "execution_count": 37,
   "id": "4337b307",
   "metadata": {},
   "outputs": [],
   "source": [
    "\n",
    "df_reward_pct_pivot.columns = ['POINTS_REDEEMED_PCT_CHANGE_'+str(i) for i in df_reward_pct_pivot.columns]"
   ]
  },
  {
   "cell_type": "code",
   "execution_count": 38,
   "id": "a45f9cbd",
   "metadata": {},
   "outputs": [],
   "source": [
    "df_reward_pct_pivot.reset_index(inplace=True)"
   ]
  },
  {
   "cell_type": "code",
   "execution_count": 39,
   "id": "947675ba",
   "metadata": {},
   "outputs": [
    {
     "data": {
      "text/html": [
       "<div>\n",
       "<style scoped>\n",
       "    .dataframe tbody tr th:only-of-type {\n",
       "        vertical-align: middle;\n",
       "    }\n",
       "\n",
       "    .dataframe tbody tr th {\n",
       "        vertical-align: top;\n",
       "    }\n",
       "\n",
       "    .dataframe thead th {\n",
       "        text-align: right;\n",
       "    }\n",
       "</style>\n",
       "<table border=\"1\" class=\"dataframe\">\n",
       "  <thead>\n",
       "    <tr style=\"text-align: right;\">\n",
       "      <th></th>\n",
       "      <th>MEMBER_ID</th>\n",
       "      <th>POINTS_REDEEMED_PCT_CHANGE_2019</th>\n",
       "      <th>POINTS_REDEEMED_PCT_CHANGE_2020</th>\n",
       "      <th>POINTS_REDEEMED_PCT_CHANGE_2021</th>\n",
       "    </tr>\n",
       "  </thead>\n",
       "  <tbody>\n",
       "    <tr>\n",
       "      <th>0</th>\n",
       "      <td>170</td>\n",
       "      <td>0.000000</td>\n",
       "      <td>0.000000</td>\n",
       "      <td>0.000000</td>\n",
       "    </tr>\n",
       "    <tr>\n",
       "      <th>1</th>\n",
       "      <td>184</td>\n",
       "      <td>0.000000</td>\n",
       "      <td>-0.166667</td>\n",
       "      <td>-0.533333</td>\n",
       "    </tr>\n",
       "    <tr>\n",
       "      <th>2</th>\n",
       "      <td>186</td>\n",
       "      <td>0.000000</td>\n",
       "      <td>0.000000</td>\n",
       "      <td>-0.733452</td>\n",
       "    </tr>\n",
       "    <tr>\n",
       "      <th>3</th>\n",
       "      <td>255</td>\n",
       "      <td>0.000000</td>\n",
       "      <td>1.000000</td>\n",
       "      <td>-0.750000</td>\n",
       "    </tr>\n",
       "    <tr>\n",
       "      <th>4</th>\n",
       "      <td>311</td>\n",
       "      <td>0.000000</td>\n",
       "      <td>1.000000</td>\n",
       "      <td>0.000000</td>\n",
       "    </tr>\n",
       "    <tr>\n",
       "      <th>...</th>\n",
       "      <td>...</td>\n",
       "      <td>...</td>\n",
       "      <td>...</td>\n",
       "      <td>...</td>\n",
       "    </tr>\n",
       "    <tr>\n",
       "      <th>399249</th>\n",
       "      <td>1018321802</td>\n",
       "      <td>0.000000</td>\n",
       "      <td>0.000000</td>\n",
       "      <td>0.000000</td>\n",
       "    </tr>\n",
       "    <tr>\n",
       "      <th>399250</th>\n",
       "      <td>1018362128</td>\n",
       "      <td>0.000000</td>\n",
       "      <td>0.000000</td>\n",
       "      <td>0.000000</td>\n",
       "    </tr>\n",
       "    <tr>\n",
       "      <th>399251</th>\n",
       "      <td>1018370821</td>\n",
       "      <td>0.000000</td>\n",
       "      <td>0.000000</td>\n",
       "      <td>0.000000</td>\n",
       "    </tr>\n",
       "    <tr>\n",
       "      <th>399252</th>\n",
       "      <td>1018371389</td>\n",
       "      <td>0.000000</td>\n",
       "      <td>0.000000</td>\n",
       "      <td>0.000000</td>\n",
       "    </tr>\n",
       "    <tr>\n",
       "      <th>399253</th>\n",
       "      <td>1018381985</td>\n",
       "      <td>0.000000</td>\n",
       "      <td>0.000000</td>\n",
       "      <td>0.000000</td>\n",
       "    </tr>\n",
       "  </tbody>\n",
       "</table>\n",
       "<p>399254 rows × 4 columns</p>\n",
       "</div>"
      ],
      "text/plain": [
       "         MEMBER_ID  POINTS_REDEEMED_PCT_CHANGE_2019  \\\n",
       "0              170                         0.000000   \n",
       "1              184                         0.000000   \n",
       "2              186                         0.000000   \n",
       "3              255                         0.000000   \n",
       "4              311                         0.000000   \n",
       "...            ...                              ...   \n",
       "399249  1018321802                         0.000000   \n",
       "399250  1018362128                         0.000000   \n",
       "399251  1018370821                         0.000000   \n",
       "399252  1018371389                         0.000000   \n",
       "399253  1018381985                         0.000000   \n",
       "\n",
       "        POINTS_REDEEMED_PCT_CHANGE_2020  POINTS_REDEEMED_PCT_CHANGE_2021  \n",
       "0                              0.000000                         0.000000  \n",
       "1                             -0.166667                        -0.533333  \n",
       "2                              0.000000                        -0.733452  \n",
       "3                              1.000000                        -0.750000  \n",
       "4                              1.000000                         0.000000  \n",
       "...                                 ...                              ...  \n",
       "399249                         0.000000                         0.000000  \n",
       "399250                         0.000000                         0.000000  \n",
       "399251                         0.000000                         0.000000  \n",
       "399252                         0.000000                         0.000000  \n",
       "399253                         0.000000                         0.000000  \n",
       "\n",
       "[399254 rows x 4 columns]"
      ]
     },
     "execution_count": 39,
     "metadata": {},
     "output_type": "execute_result"
    }
   ],
   "source": [
    "df_reward_pct_pivot"
   ]
  },
  {
   "cell_type": "code",
   "execution_count": 40,
   "id": "2959bc94",
   "metadata": {},
   "outputs": [],
   "source": [
    "#MEMBER_ID et POINTS_REDEEMED_PCT_CHANGE_2021\n",
    "df_reward_pct_pivot = df_reward_pct_pivot.loc[:, ['MEMBER_ID', 'POINTS_REDEEMED_PCT_CHANGE_2021']]"
   ]
  },
  {
   "cell_type": "markdown",
   "id": "75659504",
   "metadata": {},
   "source": [
    "# agregation df_reward"
   ]
  },
  {
   "cell_type": "code",
   "execution_count": 41,
   "id": "c5ab6820",
   "metadata": {},
   "outputs": [],
   "source": [
    "df_reward_trimmed = df_reward.loc[:,['MEMBER_ID', 'REDEMPTIONS', 'NUMBER_ITEMS_REDEEMED']].groupby('MEMBER_ID', as_index=False).sum()"
   ]
  },
  {
   "cell_type": "code",
   "execution_count": 42,
   "id": "30527d2d",
   "metadata": {},
   "outputs": [
    {
     "data": {
      "text/html": [
       "<div>\n",
       "<style scoped>\n",
       "    .dataframe tbody tr th:only-of-type {\n",
       "        vertical-align: middle;\n",
       "    }\n",
       "\n",
       "    .dataframe tbody tr th {\n",
       "        vertical-align: top;\n",
       "    }\n",
       "\n",
       "    .dataframe thead th {\n",
       "        text-align: right;\n",
       "    }\n",
       "</style>\n",
       "<table border=\"1\" class=\"dataframe\">\n",
       "  <thead>\n",
       "    <tr style=\"text-align: right;\">\n",
       "      <th></th>\n",
       "      <th>MEMBER_ID</th>\n",
       "      <th>REDEMPTIONS</th>\n",
       "      <th>NUMBER_ITEMS_REDEEMED</th>\n",
       "    </tr>\n",
       "  </thead>\n",
       "  <tbody>\n",
       "    <tr>\n",
       "      <th>0</th>\n",
       "      <td>170</td>\n",
       "      <td>1</td>\n",
       "      <td>1</td>\n",
       "    </tr>\n",
       "    <tr>\n",
       "      <th>1</th>\n",
       "      <td>184</td>\n",
       "      <td>27</td>\n",
       "      <td>40</td>\n",
       "    </tr>\n",
       "    <tr>\n",
       "      <th>2</th>\n",
       "      <td>186</td>\n",
       "      <td>9</td>\n",
       "      <td>13</td>\n",
       "    </tr>\n",
       "    <tr>\n",
       "      <th>3</th>\n",
       "      <td>255</td>\n",
       "      <td>4</td>\n",
       "      <td>7</td>\n",
       "    </tr>\n",
       "    <tr>\n",
       "      <th>4</th>\n",
       "      <td>311</td>\n",
       "      <td>3</td>\n",
       "      <td>3</td>\n",
       "    </tr>\n",
       "    <tr>\n",
       "      <th>...</th>\n",
       "      <td>...</td>\n",
       "      <td>...</td>\n",
       "      <td>...</td>\n",
       "    </tr>\n",
       "    <tr>\n",
       "      <th>399249</th>\n",
       "      <td>1018321802</td>\n",
       "      <td>1</td>\n",
       "      <td>1</td>\n",
       "    </tr>\n",
       "    <tr>\n",
       "      <th>399250</th>\n",
       "      <td>1018362128</td>\n",
       "      <td>1</td>\n",
       "      <td>1</td>\n",
       "    </tr>\n",
       "    <tr>\n",
       "      <th>399251</th>\n",
       "      <td>1018370821</td>\n",
       "      <td>1</td>\n",
       "      <td>1</td>\n",
       "    </tr>\n",
       "    <tr>\n",
       "      <th>399252</th>\n",
       "      <td>1018371389</td>\n",
       "      <td>1</td>\n",
       "      <td>1</td>\n",
       "    </tr>\n",
       "    <tr>\n",
       "      <th>399253</th>\n",
       "      <td>1018381985</td>\n",
       "      <td>1</td>\n",
       "      <td>1</td>\n",
       "    </tr>\n",
       "  </tbody>\n",
       "</table>\n",
       "<p>399254 rows × 3 columns</p>\n",
       "</div>"
      ],
      "text/plain": [
       "         MEMBER_ID  REDEMPTIONS  NUMBER_ITEMS_REDEEMED\n",
       "0              170            1                      1\n",
       "1              184           27                     40\n",
       "2              186            9                     13\n",
       "3              255            4                      7\n",
       "4              311            3                      3\n",
       "...            ...          ...                    ...\n",
       "399249  1018321802            1                      1\n",
       "399250  1018362128            1                      1\n",
       "399251  1018370821            1                      1\n",
       "399252  1018371389            1                      1\n",
       "399253  1018381985            1                      1\n",
       "\n",
       "[399254 rows x 3 columns]"
      ]
     },
     "execution_count": 42,
     "metadata": {},
     "output_type": "execute_result"
    }
   ],
   "source": [
    "df_reward_trimmed"
   ]
  },
  {
   "cell_type": "code",
   "execution_count": 43,
   "id": "a3386580",
   "metadata": {},
   "outputs": [],
   "source": [
    "assert df_reward_trimmed.shape[0] == df_reward_pct_pivot.shape[0] # == df_rewards_category_pivot.shape[0]"
   ]
  },
  {
   "cell_type": "markdown",
   "id": "1b42861a",
   "metadata": {},
   "source": [
    "# Jointure"
   ]
  },
  {
   "cell_type": "code",
   "execution_count": 44,
   "id": "ce2e487e",
   "metadata": {},
   "outputs": [],
   "source": [
    "df_to_be_merged = [df_reward_trimmed, df_reward_pct_pivot]"
   ]
  },
  {
   "cell_type": "code",
   "execution_count": 45,
   "id": "dc5a3b99",
   "metadata": {},
   "outputs": [],
   "source": [
    "df_reward_merged = reduce(lambda left,right: pd.merge(left,right,on=['MEMBER_ID'],\n",
    "                                            how='inner'), df_to_be_merged)"
   ]
  },
  {
   "cell_type": "code",
   "execution_count": 46,
   "id": "77e684f6",
   "metadata": {},
   "outputs": [
    {
     "data": {
      "text/html": [
       "<div>\n",
       "<style scoped>\n",
       "    .dataframe tbody tr th:only-of-type {\n",
       "        vertical-align: middle;\n",
       "    }\n",
       "\n",
       "    .dataframe tbody tr th {\n",
       "        vertical-align: top;\n",
       "    }\n",
       "\n",
       "    .dataframe thead th {\n",
       "        text-align: right;\n",
       "    }\n",
       "</style>\n",
       "<table border=\"1\" class=\"dataframe\">\n",
       "  <thead>\n",
       "    <tr style=\"text-align: right;\">\n",
       "      <th></th>\n",
       "      <th>MEMBER_ID</th>\n",
       "      <th>REDEMPTIONS</th>\n",
       "      <th>NUMBER_ITEMS_REDEEMED</th>\n",
       "      <th>POINTS_REDEEMED_PCT_CHANGE_2021</th>\n",
       "    </tr>\n",
       "  </thead>\n",
       "  <tbody>\n",
       "    <tr>\n",
       "      <th>0</th>\n",
       "      <td>170</td>\n",
       "      <td>1</td>\n",
       "      <td>1</td>\n",
       "      <td>0.000000</td>\n",
       "    </tr>\n",
       "    <tr>\n",
       "      <th>1</th>\n",
       "      <td>184</td>\n",
       "      <td>27</td>\n",
       "      <td>40</td>\n",
       "      <td>-0.533333</td>\n",
       "    </tr>\n",
       "    <tr>\n",
       "      <th>2</th>\n",
       "      <td>186</td>\n",
       "      <td>9</td>\n",
       "      <td>13</td>\n",
       "      <td>-0.733452</td>\n",
       "    </tr>\n",
       "    <tr>\n",
       "      <th>3</th>\n",
       "      <td>255</td>\n",
       "      <td>4</td>\n",
       "      <td>7</td>\n",
       "      <td>-0.750000</td>\n",
       "    </tr>\n",
       "    <tr>\n",
       "      <th>4</th>\n",
       "      <td>311</td>\n",
       "      <td>3</td>\n",
       "      <td>3</td>\n",
       "      <td>0.000000</td>\n",
       "    </tr>\n",
       "    <tr>\n",
       "      <th>...</th>\n",
       "      <td>...</td>\n",
       "      <td>...</td>\n",
       "      <td>...</td>\n",
       "      <td>...</td>\n",
       "    </tr>\n",
       "    <tr>\n",
       "      <th>399249</th>\n",
       "      <td>1018321802</td>\n",
       "      <td>1</td>\n",
       "      <td>1</td>\n",
       "      <td>0.000000</td>\n",
       "    </tr>\n",
       "    <tr>\n",
       "      <th>399250</th>\n",
       "      <td>1018362128</td>\n",
       "      <td>1</td>\n",
       "      <td>1</td>\n",
       "      <td>0.000000</td>\n",
       "    </tr>\n",
       "    <tr>\n",
       "      <th>399251</th>\n",
       "      <td>1018370821</td>\n",
       "      <td>1</td>\n",
       "      <td>1</td>\n",
       "      <td>0.000000</td>\n",
       "    </tr>\n",
       "    <tr>\n",
       "      <th>399252</th>\n",
       "      <td>1018371389</td>\n",
       "      <td>1</td>\n",
       "      <td>1</td>\n",
       "      <td>0.000000</td>\n",
       "    </tr>\n",
       "    <tr>\n",
       "      <th>399253</th>\n",
       "      <td>1018381985</td>\n",
       "      <td>1</td>\n",
       "      <td>1</td>\n",
       "      <td>0.000000</td>\n",
       "    </tr>\n",
       "  </tbody>\n",
       "</table>\n",
       "<p>399254 rows × 4 columns</p>\n",
       "</div>"
      ],
      "text/plain": [
       "         MEMBER_ID  REDEMPTIONS  NUMBER_ITEMS_REDEEMED  \\\n",
       "0              170            1                      1   \n",
       "1              184           27                     40   \n",
       "2              186            9                     13   \n",
       "3              255            4                      7   \n",
       "4              311            3                      3   \n",
       "...            ...          ...                    ...   \n",
       "399249  1018321802            1                      1   \n",
       "399250  1018362128            1                      1   \n",
       "399251  1018370821            1                      1   \n",
       "399252  1018371389            1                      1   \n",
       "399253  1018381985            1                      1   \n",
       "\n",
       "        POINTS_REDEEMED_PCT_CHANGE_2021  \n",
       "0                              0.000000  \n",
       "1                             -0.533333  \n",
       "2                             -0.733452  \n",
       "3                             -0.750000  \n",
       "4                              0.000000  \n",
       "...                                 ...  \n",
       "399249                         0.000000  \n",
       "399250                         0.000000  \n",
       "399251                         0.000000  \n",
       "399252                         0.000000  \n",
       "399253                         0.000000  \n",
       "\n",
       "[399254 rows x 4 columns]"
      ]
     },
     "execution_count": 46,
     "metadata": {},
     "output_type": "execute_result"
    }
   ],
   "source": [
    "df_reward_merged"
   ]
  },
  {
   "cell_type": "code",
   "execution_count": 47,
   "id": "cfffc8ec",
   "metadata": {},
   "outputs": [
    {
     "data": {
      "text/plain": [
       "(399254, 4)"
      ]
     },
     "execution_count": 47,
     "metadata": {},
     "output_type": "execute_result"
    }
   ],
   "source": [
    "df_reward_merged.shape"
   ]
  },
  {
   "cell_type": "code",
   "execution_count": 48,
   "id": "bb7be84e",
   "metadata": {},
   "outputs": [],
   "source": [
    "output_to_csv = True"
   ]
  },
  {
   "cell_type": "code",
   "execution_count": 49,
   "id": "ac8d7ad3",
   "metadata": {},
   "outputs": [],
   "source": [
    "if output_to_csv:\n",
    "    df_reward_merged.to_csv('DATA_PRETRAITEMENT/df_reward.csv', index=False)"
   ]
  },
  {
   "cell_type": "code",
   "execution_count": null,
   "id": "1e42e06f",
   "metadata": {},
   "outputs": [],
   "source": []
  }
 ],
 "metadata": {
  "kernelspec": {
   "display_name": "Python 3",
   "language": "python",
   "name": "python3"
  },
  "language_info": {
   "codemirror_mode": {
    "name": "ipython",
    "version": 3
   },
   "file_extension": ".py",
   "mimetype": "text/x-python",
   "name": "python",
   "nbconvert_exporter": "python",
   "pygments_lexer": "ipython3",
   "version": "3.8.8"
  }
 },
 "nbformat": 4,
 "nbformat_minor": 5
}
