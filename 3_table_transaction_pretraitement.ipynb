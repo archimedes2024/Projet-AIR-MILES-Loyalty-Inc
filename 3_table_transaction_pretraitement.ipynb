{
 "cells": [
  {
   "cell_type": "code",
   "execution_count": 53,
   "id": "a0109ef7",
   "metadata": {},
   "outputs": [],
   "source": [
    "import pandas as pd\n",
    "import numpy as np\n",
    "import matplotlib.pyplot as plt\n",
    "import seaborn\n",
    "import os\n",
    "from datetime import datetime\n",
    "from functools import reduce"
   ]
  },
  {
   "cell_type": "markdown",
   "id": "fb403132",
   "metadata": {},
   "source": [
    "# Importation de la base de données TRANSACTION_FACT\n"
   ]
  },
  {
   "cell_type": "code",
   "execution_count": 2,
   "id": "7a45b7b7",
   "metadata": {},
   "outputs": [],
   "source": [
    "#precisser que MONTH_ID est un datetime au moment de l'importation\n",
    "df_transac = pd.read_csv(\"DATA_ORIGINAL/TRANSACTION_FACT.csv\",\n",
    "                        parse_dates=['MONTH_ID'],\n",
    "                        date_parser=lambda x : datetime.strptime(x, \"%Y%m\"))"
   ]
  },
  {
   "cell_type": "code",
   "execution_count": 3,
   "id": "0925bf27",
   "metadata": {},
   "outputs": [],
   "source": [
    "# convertion de la variable MONTH_ID pour qu'elle soit au year-month level \n",
    "df_transac['MONTH_ID'] = df_transac['MONTH_ID'].dt.to_period('M')"
   ]
  },
  {
   "cell_type": "code",
   "execution_count": 4,
   "id": "e882c3f7",
   "metadata": {},
   "outputs": [
    {
     "data": {
      "text/html": [
       "<div>\n",
       "<style scoped>\n",
       "    .dataframe tbody tr th:only-of-type {\n",
       "        vertical-align: middle;\n",
       "    }\n",
       "\n",
       "    .dataframe tbody tr th {\n",
       "        vertical-align: top;\n",
       "    }\n",
       "\n",
       "    .dataframe thead th {\n",
       "        text-align: right;\n",
       "    }\n",
       "</style>\n",
       "<table border=\"1\" class=\"dataframe\">\n",
       "  <thead>\n",
       "    <tr style=\"text-align: right;\">\n",
       "      <th></th>\n",
       "      <th>MEMBER_ID</th>\n",
       "      <th>RETAILER</th>\n",
       "      <th>MONTH_ID</th>\n",
       "      <th>TRANSACTIONS</th>\n",
       "      <th>AMOUNT_SPENT</th>\n",
       "      <th>BASE_POINTS_EARNED</th>\n",
       "      <th>BONUS_POINTS_EARNED</th>\n",
       "      <th>REWARD_POINTS_EARNED</th>\n",
       "      <th>CASH_BACK_POINTS_EARNED</th>\n",
       "    </tr>\n",
       "  </thead>\n",
       "  <tbody>\n",
       "    <tr>\n",
       "      <th>0</th>\n",
       "      <td>7290</td>\n",
       "      <td>CATEGORY_3</td>\n",
       "      <td>2020-02</td>\n",
       "      <td>4</td>\n",
       "      <td>14.60</td>\n",
       "      <td>2</td>\n",
       "      <td>2</td>\n",
       "      <td>4.0</td>\n",
       "      <td>0.0</td>\n",
       "    </tr>\n",
       "    <tr>\n",
       "      <th>1</th>\n",
       "      <td>7290</td>\n",
       "      <td>CATEGORY_2</td>\n",
       "      <td>2020-04</td>\n",
       "      <td>3</td>\n",
       "      <td>106.15</td>\n",
       "      <td>19</td>\n",
       "      <td>0</td>\n",
       "      <td>19.0</td>\n",
       "      <td>0.0</td>\n",
       "    </tr>\n",
       "    <tr>\n",
       "      <th>2</th>\n",
       "      <td>7290</td>\n",
       "      <td>CATEGORY_4</td>\n",
       "      <td>2021-04</td>\n",
       "      <td>1</td>\n",
       "      <td>92.66</td>\n",
       "      <td>18</td>\n",
       "      <td>0</td>\n",
       "      <td>18.0</td>\n",
       "      <td>0.0</td>\n",
       "    </tr>\n",
       "    <tr>\n",
       "      <th>3</th>\n",
       "      <td>7290</td>\n",
       "      <td>CATEGORY_4</td>\n",
       "      <td>2021-12</td>\n",
       "      <td>1</td>\n",
       "      <td>365.32</td>\n",
       "      <td>73</td>\n",
       "      <td>0</td>\n",
       "      <td>73.0</td>\n",
       "      <td>0.0</td>\n",
       "    </tr>\n",
       "    <tr>\n",
       "      <th>4</th>\n",
       "      <td>7290</td>\n",
       "      <td>CATEGORY_3</td>\n",
       "      <td>2019-05</td>\n",
       "      <td>4</td>\n",
       "      <td>37.00</td>\n",
       "      <td>4</td>\n",
       "      <td>0</td>\n",
       "      <td>4.0</td>\n",
       "      <td>0.0</td>\n",
       "    </tr>\n",
       "  </tbody>\n",
       "</table>\n",
       "</div>"
      ],
      "text/plain": [
       "   MEMBER_ID    RETAILER MONTH_ID  TRANSACTIONS  AMOUNT_SPENT  \\\n",
       "0       7290  CATEGORY_3  2020-02             4         14.60   \n",
       "1       7290  CATEGORY_2  2020-04             3        106.15   \n",
       "2       7290  CATEGORY_4  2021-04             1         92.66   \n",
       "3       7290  CATEGORY_4  2021-12             1        365.32   \n",
       "4       7290  CATEGORY_3  2019-05             4         37.00   \n",
       "\n",
       "   BASE_POINTS_EARNED  BONUS_POINTS_EARNED  REWARD_POINTS_EARNED  \\\n",
       "0                   2                    2                   4.0   \n",
       "1                  19                    0                  19.0   \n",
       "2                  18                    0                  18.0   \n",
       "3                  73                    0                  73.0   \n",
       "4                   4                    0                   4.0   \n",
       "\n",
       "   CASH_BACK_POINTS_EARNED  \n",
       "0                      0.0  \n",
       "1                      0.0  \n",
       "2                      0.0  \n",
       "3                      0.0  \n",
       "4                      0.0  "
      ]
     },
     "execution_count": 4,
     "metadata": {},
     "output_type": "execute_result"
    }
   ],
   "source": [
    "df_transac.head()"
   ]
  },
  {
   "cell_type": "code",
   "execution_count": 5,
   "id": "5809b02e",
   "metadata": {},
   "outputs": [
    {
     "data": {
      "text/plain": [
       "(45565311, 9)"
      ]
     },
     "execution_count": 5,
     "metadata": {},
     "output_type": "execute_result"
    }
   ],
   "source": [
    "df_transac.shape"
   ]
  },
  {
   "cell_type": "code",
   "execution_count": 6,
   "id": "6c34eaaf",
   "metadata": {},
   "outputs": [
    {
     "data": {
      "text/plain": [
       "0"
      ]
     },
     "execution_count": 6,
     "metadata": {},
     "output_type": "execute_result"
    }
   ],
   "source": [
    "# valeurs dupliquées\n",
    "df_transac.duplicated().sum()"
   ]
  },
  {
   "cell_type": "code",
   "execution_count": 7,
   "id": "95e6c009",
   "metadata": {},
   "outputs": [],
   "source": [
    "#sort values\n",
    "df_transac.sort_values(['MEMBER_ID','MONTH_ID'], inplace=True)"
   ]
  },
  {
   "cell_type": "markdown",
   "id": "88fa0e17",
   "metadata": {},
   "source": [
    "# Analyse exploratoire de la Base de Donnees"
   ]
  },
  {
   "cell_type": "code",
   "execution_count": 8,
   "id": "1935d590",
   "metadata": {},
   "outputs": [
    {
     "data": {
      "text/plain": [
       "MEMBER_ID                   0.000000\n",
       "RETAILER                   17.932008\n",
       "MONTH_ID                    0.000000\n",
       "TRANSACTIONS                0.000000\n",
       "AMOUNT_SPENT                0.000000\n",
       "BASE_POINTS_EARNED          0.000000\n",
       "BONUS_POINTS_EARNED         0.000000\n",
       "REWARD_POINTS_EARNED        0.168106\n",
       "CASH_BACK_POINTS_EARNED     0.168106\n",
       "dtype: float64"
      ]
     },
     "execution_count": 8,
     "metadata": {},
     "output_type": "execute_result"
    }
   ],
   "source": [
    "# pourcentage de valeurs manquantes de chaque variable\n",
    "df_transac.isnull().sum() / df_transac.shape[0] * 100"
   ]
  },
  {
   "cell_type": "code",
   "execution_count": 9,
   "id": "377e73a9",
   "metadata": {},
   "outputs": [
    {
     "data": {
      "text/plain": [
       "MEMBER_ID                      int64\n",
       "RETAILER                      object\n",
       "MONTH_ID                   period[M]\n",
       "TRANSACTIONS                   int64\n",
       "AMOUNT_SPENT                 float64\n",
       "BASE_POINTS_EARNED             int64\n",
       "BONUS_POINTS_EARNED            int64\n",
       "REWARD_POINTS_EARNED         float64\n",
       "CASH_BACK_POINTS_EARNED      float64\n",
       "dtype: object"
      ]
     },
     "execution_count": 9,
     "metadata": {},
     "output_type": "execute_result"
    }
   ],
   "source": [
    "df_transac.dtypes"
   ]
  },
  {
   "cell_type": "code",
   "execution_count": 10,
   "id": "af7b1748",
   "metadata": {},
   "outputs": [],
   "source": [
    "pd.set_option('float_format', '{:f}'.format)"
   ]
  },
  {
   "cell_type": "code",
   "execution_count": 11,
   "id": "84c0b394",
   "metadata": {},
   "outputs": [
    {
     "data": {
      "text/html": [
       "<div>\n",
       "<style scoped>\n",
       "    .dataframe tbody tr th:only-of-type {\n",
       "        vertical-align: middle;\n",
       "    }\n",
       "\n",
       "    .dataframe tbody tr th {\n",
       "        vertical-align: top;\n",
       "    }\n",
       "\n",
       "    .dataframe thead th {\n",
       "        text-align: right;\n",
       "    }\n",
       "</style>\n",
       "<table border=\"1\" class=\"dataframe\">\n",
       "  <thead>\n",
       "    <tr style=\"text-align: right;\">\n",
       "      <th></th>\n",
       "      <th>TRANSACTIONS</th>\n",
       "      <th>AMOUNT_SPENT</th>\n",
       "      <th>BASE_POINTS_EARNED</th>\n",
       "      <th>BONUS_POINTS_EARNED</th>\n",
       "      <th>REWARD_POINTS_EARNED</th>\n",
       "      <th>CASH_BACK_POINTS_EARNED</th>\n",
       "    </tr>\n",
       "  </thead>\n",
       "  <tbody>\n",
       "    <tr>\n",
       "      <th>count</th>\n",
       "      <td>45565311.000000</td>\n",
       "      <td>45565311.000000</td>\n",
       "      <td>45565311.000000</td>\n",
       "      <td>45565311.000000</td>\n",
       "      <td>45488713.000000</td>\n",
       "      <td>45488713.000000</td>\n",
       "    </tr>\n",
       "    <tr>\n",
       "      <th>mean</th>\n",
       "      <td>4.049950</td>\n",
       "      <td>115.873998</td>\n",
       "      <td>21.371885</td>\n",
       "      <td>12.191385</td>\n",
       "      <td>22.788406</td>\n",
       "      <td>10.831380</td>\n",
       "    </tr>\n",
       "    <tr>\n",
       "      <th>std</th>\n",
       "      <td>11.036129</td>\n",
       "      <td>668.330765</td>\n",
       "      <td>133.415743</td>\n",
       "      <td>100.364028</td>\n",
       "      <td>145.704892</td>\n",
       "      <td>83.796463</td>\n",
       "    </tr>\n",
       "    <tr>\n",
       "      <th>min</th>\n",
       "      <td>0.000000</td>\n",
       "      <td>-351758.960000</td>\n",
       "      <td>-70353.000000</td>\n",
       "      <td>-31986.000000</td>\n",
       "      <td>-79991.000000</td>\n",
       "      <td>-18193.000000</td>\n",
       "    </tr>\n",
       "    <tr>\n",
       "      <th>25%</th>\n",
       "      <td>1.000000</td>\n",
       "      <td>12.230000</td>\n",
       "      <td>2.000000</td>\n",
       "      <td>0.000000</td>\n",
       "      <td>0.000000</td>\n",
       "      <td>0.000000</td>\n",
       "    </tr>\n",
       "    <tr>\n",
       "      <th>50%</th>\n",
       "      <td>2.000000</td>\n",
       "      <td>29.510000</td>\n",
       "      <td>5.000000</td>\n",
       "      <td>0.000000</td>\n",
       "      <td>1.000000</td>\n",
       "      <td>0.000000</td>\n",
       "    </tr>\n",
       "    <tr>\n",
       "      <th>75%</th>\n",
       "      <td>4.000000</td>\n",
       "      <td>76.590000</td>\n",
       "      <td>13.000000</td>\n",
       "      <td>2.000000</td>\n",
       "      <td>9.000000</td>\n",
       "      <td>5.000000</td>\n",
       "    </tr>\n",
       "    <tr>\n",
       "      <th>max</th>\n",
       "      <td>17915.000000</td>\n",
       "      <td>473815.830000</td>\n",
       "      <td>94762.000000</td>\n",
       "      <td>200069.000000</td>\n",
       "      <td>94762.000000</td>\n",
       "      <td>200069.000000</td>\n",
       "    </tr>\n",
       "  </tbody>\n",
       "</table>\n",
       "</div>"
      ],
      "text/plain": [
       "         TRANSACTIONS    AMOUNT_SPENT  BASE_POINTS_EARNED  \\\n",
       "count 45565311.000000 45565311.000000     45565311.000000   \n",
       "mean         4.049950      115.873998           21.371885   \n",
       "std         11.036129      668.330765          133.415743   \n",
       "min          0.000000  -351758.960000       -70353.000000   \n",
       "25%          1.000000       12.230000            2.000000   \n",
       "50%          2.000000       29.510000            5.000000   \n",
       "75%          4.000000       76.590000           13.000000   \n",
       "max      17915.000000   473815.830000        94762.000000   \n",
       "\n",
       "       BONUS_POINTS_EARNED  REWARD_POINTS_EARNED  CASH_BACK_POINTS_EARNED  \n",
       "count      45565311.000000       45488713.000000          45488713.000000  \n",
       "mean             12.191385             22.788406                10.831380  \n",
       "std             100.364028            145.704892                83.796463  \n",
       "min          -31986.000000         -79991.000000            -18193.000000  \n",
       "25%               0.000000              0.000000                 0.000000  \n",
       "50%               0.000000              1.000000                 0.000000  \n",
       "75%               2.000000              9.000000                 5.000000  \n",
       "max          200069.000000          94762.000000            200069.000000  "
      ]
     },
     "execution_count": 11,
     "metadata": {},
     "output_type": "execute_result"
    }
   ],
   "source": [
    "# statistique descriptives variables numériques\n",
    "df_transac.drop('MEMBER_ID', axis=1).describe()"
   ]
  },
  {
   "cell_type": "markdown",
   "id": "e20a60b5",
   "metadata": {},
   "source": [
    "## <span style='background :yellow' > Variable MEMBER_ID </span>"
   ]
  },
  {
   "cell_type": "code",
   "execution_count": 12,
   "id": "7dc7eb67",
   "metadata": {},
   "outputs": [
    {
     "data": {
      "text/plain": [
       "1202982"
      ]
     },
     "execution_count": 12,
     "metadata": {},
     "output_type": "execute_result"
    }
   ],
   "source": [
    "# il y a difference de 3 entre table de membres et transanct, effacer ces 3 membres!\n",
    "#nunique table membres =1202985\n",
    "df_transac['MEMBER_ID'].nunique()"
   ]
  },
  {
   "cell_type": "markdown",
   "id": "7cdeefcd",
   "metadata": {},
   "source": [
    "## <span style='background :yellow' > Variable RETAILER </span>"
   ]
  },
  {
   "cell_type": "code",
   "execution_count": 13,
   "id": "af77b0d4",
   "metadata": {},
   "outputs": [
    {
     "data": {
      "text/plain": [
       "array(['CATEGORY_1', 'CATEGORY_3', 'CATEGORY_2', nan, 'CATEGORY_5',\n",
       "       'CATEGORY_4'], dtype=object)"
      ]
     },
     "execution_count": 13,
     "metadata": {},
     "output_type": "execute_result"
    }
   ],
   "source": [
    "#cathegories\n",
    "#probleme avec nan, c'est la cathegories \"autres\"\n",
    "df_transac.RETAILER.unique()"
   ]
  },
  {
   "cell_type": "code",
   "execution_count": 14,
   "id": "a50923c8",
   "metadata": {},
   "outputs": [
    {
     "data": {
      "text/plain": [
       "CATEGORY_2   36.545702\n",
       "CATEGORY_3   17.484176\n",
       "CATEGORY_1   11.433566\n",
       "CATEGORY_4   10.060785\n",
       "CATEGORY_5    6.543763\n",
       "Name: RETAILER, dtype: float64"
      ]
     },
     "execution_count": 14,
     "metadata": {},
     "output_type": "execute_result"
    }
   ],
   "source": [
    "# Pourcentage de transaction dans chaque catégorie\n",
    "df_transac.RETAILER.value_counts() / df_transac.shape[0] * 100"
   ]
  },
  {
   "cell_type": "code",
   "execution_count": 15,
   "id": "651234d8",
   "metadata": {},
   "outputs": [
    {
     "data": {
      "text/html": [
       "<div>\n",
       "<style scoped>\n",
       "    .dataframe tbody tr th:only-of-type {\n",
       "        vertical-align: middle;\n",
       "    }\n",
       "\n",
       "    .dataframe tbody tr th {\n",
       "        vertical-align: top;\n",
       "    }\n",
       "\n",
       "    .dataframe thead th {\n",
       "        text-align: right;\n",
       "    }\n",
       "</style>\n",
       "<table border=\"1\" class=\"dataframe\">\n",
       "  <thead>\n",
       "    <tr style=\"text-align: right;\">\n",
       "      <th></th>\n",
       "      <th>MEMBER_ID</th>\n",
       "      <th>RETAILER</th>\n",
       "      <th>MONTH_ID</th>\n",
       "      <th>TRANSACTIONS</th>\n",
       "      <th>AMOUNT_SPENT</th>\n",
       "      <th>BASE_POINTS_EARNED</th>\n",
       "      <th>BONUS_POINTS_EARNED</th>\n",
       "      <th>REWARD_POINTS_EARNED</th>\n",
       "      <th>CASH_BACK_POINTS_EARNED</th>\n",
       "    </tr>\n",
       "  </thead>\n",
       "  <tbody>\n",
       "    <tr>\n",
       "      <th>1809896</th>\n",
       "      <td>44</td>\n",
       "      <td>CATEGORY_1</td>\n",
       "      <td>2019-06</td>\n",
       "      <td>2</td>\n",
       "      <td>11.090000</td>\n",
       "      <td>1</td>\n",
       "      <td>0</td>\n",
       "      <td>1.000000</td>\n",
       "      <td>0.000000</td>\n",
       "    </tr>\n",
       "    <tr>\n",
       "      <th>1809895</th>\n",
       "      <td>44</td>\n",
       "      <td>CATEGORY_1</td>\n",
       "      <td>2019-12</td>\n",
       "      <td>3</td>\n",
       "      <td>21.610000</td>\n",
       "      <td>2</td>\n",
       "      <td>0</td>\n",
       "      <td>2.000000</td>\n",
       "      <td>0.000000</td>\n",
       "    </tr>\n",
       "    <tr>\n",
       "      <th>1809893</th>\n",
       "      <td>44</td>\n",
       "      <td>CATEGORY_1</td>\n",
       "      <td>2020-01</td>\n",
       "      <td>1</td>\n",
       "      <td>7.530000</td>\n",
       "      <td>1</td>\n",
       "      <td>0</td>\n",
       "      <td>1.000000</td>\n",
       "      <td>0.000000</td>\n",
       "    </tr>\n",
       "    <tr>\n",
       "      <th>1809894</th>\n",
       "      <td>44</td>\n",
       "      <td>CATEGORY_1</td>\n",
       "      <td>2020-02</td>\n",
       "      <td>3</td>\n",
       "      <td>19.060000</td>\n",
       "      <td>2</td>\n",
       "      <td>0</td>\n",
       "      <td>2.000000</td>\n",
       "      <td>0.000000</td>\n",
       "    </tr>\n",
       "    <tr>\n",
       "      <th>33674028</th>\n",
       "      <td>112</td>\n",
       "      <td>CATEGORY_3</td>\n",
       "      <td>2019-01</td>\n",
       "      <td>1</td>\n",
       "      <td>9.840000</td>\n",
       "      <td>1</td>\n",
       "      <td>0</td>\n",
       "      <td>1.000000</td>\n",
       "      <td>0.000000</td>\n",
       "    </tr>\n",
       "    <tr>\n",
       "      <th>...</th>\n",
       "      <td>...</td>\n",
       "      <td>...</td>\n",
       "      <td>...</td>\n",
       "      <td>...</td>\n",
       "      <td>...</td>\n",
       "      <td>...</td>\n",
       "      <td>...</td>\n",
       "      <td>...</td>\n",
       "      <td>...</td>\n",
       "    </tr>\n",
       "    <tr>\n",
       "      <th>29176466</th>\n",
       "      <td>1019023002</td>\n",
       "      <td>CATEGORY_4</td>\n",
       "      <td>2021-08</td>\n",
       "      <td>3</td>\n",
       "      <td>477.470000</td>\n",
       "      <td>95</td>\n",
       "      <td>30</td>\n",
       "      <td>125.000000</td>\n",
       "      <td>0.000000</td>\n",
       "    </tr>\n",
       "    <tr>\n",
       "      <th>29176477</th>\n",
       "      <td>1019023002</td>\n",
       "      <td>CATEGORY_4</td>\n",
       "      <td>2021-09</td>\n",
       "      <td>1</td>\n",
       "      <td>349.340000</td>\n",
       "      <td>69</td>\n",
       "      <td>0</td>\n",
       "      <td>69.000000</td>\n",
       "      <td>0.000000</td>\n",
       "    </tr>\n",
       "    <tr>\n",
       "      <th>29176460</th>\n",
       "      <td>1019023002</td>\n",
       "      <td>CATEGORY_4</td>\n",
       "      <td>2021-10</td>\n",
       "      <td>1</td>\n",
       "      <td>444.050000</td>\n",
       "      <td>88</td>\n",
       "      <td>0</td>\n",
       "      <td>88.000000</td>\n",
       "      <td>0.000000</td>\n",
       "    </tr>\n",
       "    <tr>\n",
       "      <th>29176475</th>\n",
       "      <td>1019023002</td>\n",
       "      <td>CATEGORY_4</td>\n",
       "      <td>2021-11</td>\n",
       "      <td>1</td>\n",
       "      <td>604.590000</td>\n",
       "      <td>120</td>\n",
       "      <td>0</td>\n",
       "      <td>120.000000</td>\n",
       "      <td>0.000000</td>\n",
       "    </tr>\n",
       "    <tr>\n",
       "      <th>29176487</th>\n",
       "      <td>1019023002</td>\n",
       "      <td>CATEGORY_4</td>\n",
       "      <td>2021-12</td>\n",
       "      <td>1</td>\n",
       "      <td>768.560000</td>\n",
       "      <td>153</td>\n",
       "      <td>0</td>\n",
       "      <td>153.000000</td>\n",
       "      <td>0.000000</td>\n",
       "    </tr>\n",
       "  </tbody>\n",
       "</table>\n",
       "<p>45565311 rows × 9 columns</p>\n",
       "</div>"
      ],
      "text/plain": [
       "           MEMBER_ID    RETAILER MONTH_ID  TRANSACTIONS  AMOUNT_SPENT  \\\n",
       "1809896           44  CATEGORY_1  2019-06             2     11.090000   \n",
       "1809895           44  CATEGORY_1  2019-12             3     21.610000   \n",
       "1809893           44  CATEGORY_1  2020-01             1      7.530000   \n",
       "1809894           44  CATEGORY_1  2020-02             3     19.060000   \n",
       "33674028         112  CATEGORY_3  2019-01             1      9.840000   \n",
       "...              ...         ...      ...           ...           ...   \n",
       "29176466  1019023002  CATEGORY_4  2021-08             3    477.470000   \n",
       "29176477  1019023002  CATEGORY_4  2021-09             1    349.340000   \n",
       "29176460  1019023002  CATEGORY_4  2021-10             1    444.050000   \n",
       "29176475  1019023002  CATEGORY_4  2021-11             1    604.590000   \n",
       "29176487  1019023002  CATEGORY_4  2021-12             1    768.560000   \n",
       "\n",
       "          BASE_POINTS_EARNED  BONUS_POINTS_EARNED  REWARD_POINTS_EARNED  \\\n",
       "1809896                    1                    0              1.000000   \n",
       "1809895                    2                    0              2.000000   \n",
       "1809893                    1                    0              1.000000   \n",
       "1809894                    2                    0              2.000000   \n",
       "33674028                   1                    0              1.000000   \n",
       "...                      ...                  ...                   ...   \n",
       "29176466                  95                   30            125.000000   \n",
       "29176477                  69                    0             69.000000   \n",
       "29176460                  88                    0             88.000000   \n",
       "29176475                 120                    0            120.000000   \n",
       "29176487                 153                    0            153.000000   \n",
       "\n",
       "          CASH_BACK_POINTS_EARNED  \n",
       "1809896                  0.000000  \n",
       "1809895                  0.000000  \n",
       "1809893                  0.000000  \n",
       "1809894                  0.000000  \n",
       "33674028                 0.000000  \n",
       "...                           ...  \n",
       "29176466                 0.000000  \n",
       "29176477                 0.000000  \n",
       "29176460                 0.000000  \n",
       "29176475                 0.000000  \n",
       "29176487                 0.000000  \n",
       "\n",
       "[45565311 rows x 9 columns]"
      ]
     },
     "execution_count": 15,
     "metadata": {},
     "output_type": "execute_result"
    }
   ],
   "source": [
    "#nan vont etre asignées à catégorie \"autres\" = CATEGORY_6\n",
    "# Remplacer les NaN par CATEGORY_6  \n",
    "remplacement = {\"RETAILER\": 'CATEGORY_6'}\n",
    "df_transac =df_transac.fillna(remplacement)\n",
    "\n",
    "df_transac"
   ]
  },
  {
   "cell_type": "code",
   "execution_count": 16,
   "id": "6406661d",
   "metadata": {},
   "outputs": [
    {
     "data": {
      "text/plain": [
       "array(['CATEGORY_1', 'CATEGORY_3', 'CATEGORY_2', 'CATEGORY_6',\n",
       "       'CATEGORY_5', 'CATEGORY_4'], dtype=object)"
      ]
     },
     "execution_count": 16,
     "metadata": {},
     "output_type": "execute_result"
    }
   ],
   "source": [
    "df_transac.RETAILER.unique()"
   ]
  },
  {
   "cell_type": "code",
   "execution_count": 17,
   "id": "5a28aa99",
   "metadata": {},
   "outputs": [
    {
     "data": {
      "text/plain": [
       "CATEGORY_2   36.545702\n",
       "CATEGORY_6   17.932008\n",
       "CATEGORY_3   17.484176\n",
       "CATEGORY_1   11.433566\n",
       "CATEGORY_4   10.060785\n",
       "CATEGORY_5    6.543763\n",
       "Name: RETAILER, dtype: float64"
      ]
     },
     "execution_count": 17,
     "metadata": {},
     "output_type": "execute_result"
    }
   ],
   "source": [
    "# calculer a nouveau le Pourcentage de transaction dans chaque catégorie\n",
    "df_transac.RETAILER.value_counts() / df_transac.shape[0] * 100"
   ]
  },
  {
   "cell_type": "markdown",
   "id": "25e461e9",
   "metadata": {},
   "source": [
    "## <span style='background :yellow' > Variable AMOUNT_SPENT </span>"
   ]
  },
  {
   "cell_type": "code",
   "execution_count": 18,
   "id": "6ac5a712",
   "metadata": {},
   "outputs": [
    {
     "name": "stdout",
     "output_type": "stream",
     "text": [
      "nb des obs avec des AMOUNT SPENT inférieures à 0:  118549\n",
      "pourcentage des obs avec des AMOUNT SPENT inférieures à 0:  0.26017379756279946\n",
      "clients qui ont des montants dépensés égaux à 0 : 26521\n"
     ]
    }
   ],
   "source": [
    "# des obs avec des AMOUNT SPENT inférieures à 0\n",
    "nb_obs_inf_zero_as= df_transac[df_transac.AMOUNT_SPENT < 0].shape[0]\n",
    "pr_obs_inf_zero_as= df_transac[df_transac.AMOUNT_SPENT < 0].shape[0] / df_transac.shape[0] * 100\n",
    "\n",
    "df_test =df_transac.groupby(['MEMBER_ID'], as_index=False)['AMOUNT_SPENT'].sum()\n",
    "df_test_2 =df_test[df_test.AMOUNT_SPENT == 0].shape[0] \n",
    "\n",
    "print('nb des obs avec des AMOUNT SPENT inférieures à 0: ',nb_obs_inf_zero_as)\n",
    "print('pourcentage des obs avec des AMOUNT SPENT inférieures à 0: ',pr_obs_inf_zero_as)\n",
    "print('clients qui ont des montants dépensés égaux à 0 :', df_test_2)"
   ]
  },
  {
   "cell_type": "code",
   "execution_count": 19,
   "id": "557bf6ac",
   "metadata": {},
   "outputs": [],
   "source": [
    "df_transac.drop('AMOUNT_SPENT', axis=1, inplace=True)"
   ]
  },
  {
   "cell_type": "markdown",
   "id": "fa698a7c",
   "metadata": {},
   "source": [
    "## <span style='background :yellow' > Variable BASE_POINTS_EARNED </span>"
   ]
  },
  {
   "cell_type": "code",
   "execution_count": 20,
   "id": "cfea73da",
   "metadata": {},
   "outputs": [
    {
     "name": "stdout",
     "output_type": "stream",
     "text": [
      "nb des obs avec des BASE_POINTS_EARNED inférieures à 0:  123796\n",
      "pourcentage des obs BASE_POINTS_EARNED inférieures à 0:  0.27168913650123006\n"
     ]
    }
   ],
   "source": [
    "# des obs avec des BASE_POINTS_EARNED inférieures à 0\n",
    "nb_obs_inf_zero_bp= df_transac[df_transac.BASE_POINTS_EARNED < 0].shape[0]\n",
    "pr_obs_inf_zero_bp= df_transac[df_transac.BASE_POINTS_EARNED < 0].shape[0] / df_transac.shape[0] * 100\n",
    "\n",
    "print('nb des obs avec des BASE_POINTS_EARNED inférieures à 0: ',nb_obs_inf_zero_bp)\n",
    "print('pourcentage des obs BASE_POINTS_EARNED inférieures à 0: ',pr_obs_inf_zero_bp)"
   ]
  },
  {
   "cell_type": "markdown",
   "id": "23f8853b",
   "metadata": {},
   "source": [
    "## <span style='background :yellow' > Variable BONUS_POINTS_EARNED </span>"
   ]
  },
  {
   "cell_type": "code",
   "execution_count": 21,
   "id": "f0f691f8",
   "metadata": {},
   "outputs": [
    {
     "name": "stdout",
     "output_type": "stream",
     "text": [
      "nb des obs avec des BONUS_POINTS_EARNED inférieures à 0:  9050\n",
      "pourcentage des obs BONUS_POINTS_EARNED inférieures à 0:  0.019861600417914408\n"
     ]
    }
   ],
   "source": [
    "# des obs avec des BASE_POINTS_EARNED inférieures à 0\n",
    "nb_obs_inf_zero_bonusp= df_transac[df_transac.BONUS_POINTS_EARNED < 0].shape[0]\n",
    "pr_obs_inf_zero_bonusp= df_transac[df_transac.BONUS_POINTS_EARNED < 0].shape[0] / df_transac.shape[0] * 100\n",
    "\n",
    "print('nb des obs avec des BONUS_POINTS_EARNED inférieures à 0: ',nb_obs_inf_zero_bonusp)\n",
    "print('pourcentage des obs BONUS_POINTS_EARNED inférieures à 0: ',pr_obs_inf_zero_bonusp)"
   ]
  },
  {
   "cell_type": "markdown",
   "id": "a0813081",
   "metadata": {},
   "source": [
    "## <span style='background :yellow' > Variable REWARD_POINTS_EARNED </span>"
   ]
  },
  {
   "cell_type": "code",
   "execution_count": 22,
   "id": "ef641451",
   "metadata": {},
   "outputs": [
    {
     "name": "stdout",
     "output_type": "stream",
     "text": [
      "nb des obs avec des REWARD_POINTS_EARNED inférieures à 0:  84646\n",
      "pourcentage des obs REWARD_POINTS_EARNED inférieures à 0:  0.1857685114889263\n"
     ]
    }
   ],
   "source": [
    "# des obs avec des BASE_POINTS_EARNED inférieures à 0\n",
    "nb_obs_inf_zero_rp= df_transac[df_transac.REWARD_POINTS_EARNED < 0].shape[0]\n",
    "pr_obs_inf_zero_rp= df_transac[df_transac.REWARD_POINTS_EARNED < 0].shape[0] / df_transac.shape[0] * 100\n",
    "\n",
    "print('nb des obs avec des REWARD_POINTS_EARNED inférieures à 0: ',nb_obs_inf_zero_rp)\n",
    "print('pourcentage des obs REWARD_POINTS_EARNED inférieures à 0: ',pr_obs_inf_zero_rp)"
   ]
  },
  {
   "cell_type": "markdown",
   "id": "8cfa8b23",
   "metadata": {},
   "source": [
    "## <span style='background :yellow' > Variable CASH_BACK_POINTS_EARNED </span>"
   ]
  },
  {
   "cell_type": "code",
   "execution_count": 23,
   "id": "bb4759e2",
   "metadata": {},
   "outputs": [
    {
     "name": "stdout",
     "output_type": "stream",
     "text": [
      "nb des obs avec des CASH_BACK_POINTS_EARNED inférieures à 0:  44330\n",
      "pourcentage des obs CASH_BACK_POINTS_EARNED inférieures à 0:  0.0972889222680824\n"
     ]
    }
   ],
   "source": [
    "# des obs avec des BASE_POINTS_EARNED inférieures à 0\n",
    "nb_obs_inf_zero_cbp= df_transac[df_transac.CASH_BACK_POINTS_EARNED < 0].shape[0]\n",
    "pr_obs_inf_zero_cbp= df_transac[df_transac.CASH_BACK_POINTS_EARNED < 0].shape[0] / df_transac.shape[0] * 100\n",
    "\n",
    "print('nb des obs avec des CASH_BACK_POINTS_EARNED inférieures à 0: ',nb_obs_inf_zero_cbp)\n",
    "print('pourcentage des obs CASH_BACK_POINTS_EARNED inférieures à 0: ',pr_obs_inf_zero_cbp)"
   ]
  },
  {
   "cell_type": "markdown",
   "id": "628e7292",
   "metadata": {},
   "source": [
    "#  Creation de Variables "
   ]
  },
  {
   "cell_type": "markdown",
   "id": "b71ec594",
   "metadata": {},
   "source": [
    "## <span style='background :yellow' > Variable COVID_TRANSACTIONS_PCT_CHANGE </span>\n",
    "\n",
    "Croissance / décroissance transaction covid"
   ]
  },
  {
   "cell_type": "code",
   "execution_count": 24,
   "id": "4585205c",
   "metadata": {},
   "outputs": [],
   "source": [
    "df_pre_covid = df_transac[(df_transac['MONTH_ID'] >= '2019-03') & (df_transac['MONTH_ID'] < '2020-03')].copy()"
   ]
  },
  {
   "cell_type": "code",
   "execution_count": 25,
   "id": "c14a6faa",
   "metadata": {},
   "outputs": [],
   "source": [
    "df_pre_covid = df_pre_covid.groupby('MEMBER_ID', as_index=False)['TRANSACTIONS'].sum()"
   ]
  },
  {
   "cell_type": "code",
   "execution_count": 26,
   "id": "ac7c115a",
   "metadata": {},
   "outputs": [],
   "source": [
    "df_pre_covid.rename(columns={'TRANSACTIONS':'TRANSACTIONS_PRE_COVID'}, inplace=True)"
   ]
  },
  {
   "cell_type": "code",
   "execution_count": 27,
   "id": "3c785ac9",
   "metadata": {},
   "outputs": [],
   "source": [
    "df_covid = df_transac[(df_transac['MONTH_ID'] >= '2020-03') & (df_transac['MONTH_ID'] < '2021-02')].copy()"
   ]
  },
  {
   "cell_type": "code",
   "execution_count": 28,
   "id": "84f07772",
   "metadata": {},
   "outputs": [],
   "source": [
    "df_covid = df_covid.groupby('MEMBER_ID', as_index=False)['TRANSACTIONS'].sum()"
   ]
  },
  {
   "cell_type": "code",
   "execution_count": 29,
   "id": "74653d62",
   "metadata": {},
   "outputs": [],
   "source": [
    "df_covid.rename(columns={'TRANSACTIONS':'TRANSACTIONS_COVID'}, inplace=True)"
   ]
  },
  {
   "cell_type": "code",
   "execution_count": 30,
   "id": "9dab76b5",
   "metadata": {},
   "outputs": [],
   "source": [
    "df_merged = pd.merge(df_pre_covid, df_covid, on='MEMBER_ID', how='inner')"
   ]
  },
  {
   "cell_type": "code",
   "execution_count": 31,
   "id": "2827e6ab",
   "metadata": {},
   "outputs": [],
   "source": [
    "df_merged['COVID_TRANSACTIONS_PCT_CHANGE'] = df_merged[['TRANSACTIONS_PRE_COVID', 'TRANSACTIONS_COVID']].pct_change(axis=1)['TRANSACTIONS_COVID']"
   ]
  },
  {
   "cell_type": "code",
   "execution_count": 32,
   "id": "9dc4ffb5",
   "metadata": {},
   "outputs": [
    {
     "data": {
      "text/html": [
       "<div>\n",
       "<style scoped>\n",
       "    .dataframe tbody tr th:only-of-type {\n",
       "        vertical-align: middle;\n",
       "    }\n",
       "\n",
       "    .dataframe tbody tr th {\n",
       "        vertical-align: top;\n",
       "    }\n",
       "\n",
       "    .dataframe thead th {\n",
       "        text-align: right;\n",
       "    }\n",
       "</style>\n",
       "<table border=\"1\" class=\"dataframe\">\n",
       "  <thead>\n",
       "    <tr style=\"text-align: right;\">\n",
       "      <th></th>\n",
       "      <th>MEMBER_ID</th>\n",
       "      <th>TRANSACTIONS_PRE_COVID</th>\n",
       "      <th>TRANSACTIONS_COVID</th>\n",
       "      <th>COVID_TRANSACTIONS_PCT_CHANGE</th>\n",
       "    </tr>\n",
       "  </thead>\n",
       "  <tbody>\n",
       "    <tr>\n",
       "      <th>count</th>\n",
       "      <td>942373.000000</td>\n",
       "      <td>942373.000000</td>\n",
       "      <td>942373.000000</td>\n",
       "      <td>942373.000000</td>\n",
       "    </tr>\n",
       "    <tr>\n",
       "      <th>mean</th>\n",
       "      <td>420762406.524739</td>\n",
       "      <td>78.977860</td>\n",
       "      <td>57.115437</td>\n",
       "      <td>0.169129</td>\n",
       "    </tr>\n",
       "    <tr>\n",
       "      <th>std</th>\n",
       "      <td>492094722.793499</td>\n",
       "      <td>166.705537</td>\n",
       "      <td>123.013424</td>\n",
       "      <td>5.358488</td>\n",
       "    </tr>\n",
       "    <tr>\n",
       "      <th>min</th>\n",
       "      <td>112.000000</td>\n",
       "      <td>1.000000</td>\n",
       "      <td>1.000000</td>\n",
       "      <td>-0.999755</td>\n",
       "    </tr>\n",
       "    <tr>\n",
       "      <th>25%</th>\n",
       "      <td>7216420.000000</td>\n",
       "      <td>15.000000</td>\n",
       "      <td>11.000000</td>\n",
       "      <td>-0.513761</td>\n",
       "    </tr>\n",
       "    <tr>\n",
       "      <th>50%</th>\n",
       "      <td>15909231.000000</td>\n",
       "      <td>41.000000</td>\n",
       "      <td>30.000000</td>\n",
       "      <td>-0.250000</td>\n",
       "    </tr>\n",
       "    <tr>\n",
       "      <th>75%</th>\n",
       "      <td>1007705838.000000</td>\n",
       "      <td>94.000000</td>\n",
       "      <td>72.000000</td>\n",
       "      <td>0.073171</td>\n",
       "    </tr>\n",
       "    <tr>\n",
       "      <th>max</th>\n",
       "      <td>1019023002.000000</td>\n",
       "      <td>48827.000000</td>\n",
       "      <td>64775.000000</td>\n",
       "      <td>2815.304348</td>\n",
       "    </tr>\n",
       "  </tbody>\n",
       "</table>\n",
       "</div>"
      ],
      "text/plain": [
       "              MEMBER_ID  TRANSACTIONS_PRE_COVID  TRANSACTIONS_COVID  \\\n",
       "count     942373.000000           942373.000000       942373.000000   \n",
       "mean   420762406.524739               78.977860           57.115437   \n",
       "std    492094722.793499              166.705537          123.013424   \n",
       "min          112.000000                1.000000            1.000000   \n",
       "25%      7216420.000000               15.000000           11.000000   \n",
       "50%     15909231.000000               41.000000           30.000000   \n",
       "75%   1007705838.000000               94.000000           72.000000   \n",
       "max   1019023002.000000            48827.000000        64775.000000   \n",
       "\n",
       "       COVID_TRANSACTIONS_PCT_CHANGE  \n",
       "count                  942373.000000  \n",
       "mean                        0.169129  \n",
       "std                         5.358488  \n",
       "min                        -0.999755  \n",
       "25%                        -0.513761  \n",
       "50%                        -0.250000  \n",
       "75%                         0.073171  \n",
       "max                      2815.304348  "
      ]
     },
     "execution_count": 32,
     "metadata": {},
     "output_type": "execute_result"
    }
   ],
   "source": [
    "df_merged.describe()"
   ]
  },
  {
   "cell_type": "code",
   "execution_count": null,
   "id": "98ead9a5",
   "metadata": {},
   "outputs": [],
   "source": [
    "df_merged"
   ]
  },
  {
   "cell_type": "code",
   "execution_count": 33,
   "id": "99edece3",
   "metadata": {},
   "outputs": [],
   "source": [
    "df_pct_change_covid = df_merged.loc[:, ['MEMBER_ID', 'COVID_TRANSACTIONS_PCT_CHANGE']]"
   ]
  },
  {
   "cell_type": "code",
   "execution_count": null,
   "id": "3f37b58b",
   "metadata": {},
   "outputs": [],
   "source": []
  },
  {
   "cell_type": "markdown",
   "id": "77a5eb1f",
   "metadata": {},
   "source": [
    "## <span style='background :yellow' > Variable Recency </span>\n",
    "\n",
    "Nombre de jours écoulés depuis la transaction la plus récente <br>\n",
    "On utilise la dernière date d'achat pour tous les membres\n",
    "\n"
   ]
  },
  {
   "cell_type": "code",
   "execution_count": 34,
   "id": "96a2297e",
   "metadata": {},
   "outputs": [],
   "source": [
    "df_recency = df_transac.groupby('MEMBER_ID')['MONTH_ID'].last().reset_index(name='LAST_DATE_TRANSACTION')"
   ]
  },
  {
   "cell_type": "code",
   "execution_count": 35,
   "id": "d00c2820",
   "metadata": {},
   "outputs": [
    {
     "data": {
      "text/html": [
       "<div>\n",
       "<style scoped>\n",
       "    .dataframe tbody tr th:only-of-type {\n",
       "        vertical-align: middle;\n",
       "    }\n",
       "\n",
       "    .dataframe tbody tr th {\n",
       "        vertical-align: top;\n",
       "    }\n",
       "\n",
       "    .dataframe thead th {\n",
       "        text-align: right;\n",
       "    }\n",
       "</style>\n",
       "<table border=\"1\" class=\"dataframe\">\n",
       "  <thead>\n",
       "    <tr style=\"text-align: right;\">\n",
       "      <th></th>\n",
       "      <th>MEMBER_ID</th>\n",
       "      <th>LAST_DATE_TRANSACTION</th>\n",
       "    </tr>\n",
       "  </thead>\n",
       "  <tbody>\n",
       "    <tr>\n",
       "      <th>0</th>\n",
       "      <td>44</td>\n",
       "      <td>2020-02</td>\n",
       "    </tr>\n",
       "    <tr>\n",
       "      <th>1</th>\n",
       "      <td>112</td>\n",
       "      <td>2021-09</td>\n",
       "    </tr>\n",
       "    <tr>\n",
       "      <th>2</th>\n",
       "      <td>123</td>\n",
       "      <td>2020-10</td>\n",
       "    </tr>\n",
       "    <tr>\n",
       "      <th>3</th>\n",
       "      <td>170</td>\n",
       "      <td>2021-12</td>\n",
       "    </tr>\n",
       "    <tr>\n",
       "      <th>4</th>\n",
       "      <td>183</td>\n",
       "      <td>2021-12</td>\n",
       "    </tr>\n",
       "    <tr>\n",
       "      <th>...</th>\n",
       "      <td>...</td>\n",
       "      <td>...</td>\n",
       "    </tr>\n",
       "    <tr>\n",
       "      <th>1202977</th>\n",
       "      <td>1019008669</td>\n",
       "      <td>2021-12</td>\n",
       "    </tr>\n",
       "    <tr>\n",
       "      <th>1202978</th>\n",
       "      <td>1019011271</td>\n",
       "      <td>2021-12</td>\n",
       "    </tr>\n",
       "    <tr>\n",
       "      <th>1202979</th>\n",
       "      <td>1019016174</td>\n",
       "      <td>2021-12</td>\n",
       "    </tr>\n",
       "    <tr>\n",
       "      <th>1202980</th>\n",
       "      <td>1019019110</td>\n",
       "      <td>2021-12</td>\n",
       "    </tr>\n",
       "    <tr>\n",
       "      <th>1202981</th>\n",
       "      <td>1019023002</td>\n",
       "      <td>2021-12</td>\n",
       "    </tr>\n",
       "  </tbody>\n",
       "</table>\n",
       "<p>1202982 rows × 2 columns</p>\n",
       "</div>"
      ],
      "text/plain": [
       "          MEMBER_ID LAST_DATE_TRANSACTION\n",
       "0                44               2020-02\n",
       "1               112               2021-09\n",
       "2               123               2020-10\n",
       "3               170               2021-12\n",
       "4               183               2021-12\n",
       "...             ...                   ...\n",
       "1202977  1019008669               2021-12\n",
       "1202978  1019011271               2021-12\n",
       "1202979  1019016174               2021-12\n",
       "1202980  1019019110               2021-12\n",
       "1202981  1019023002               2021-12\n",
       "\n",
       "[1202982 rows x 2 columns]"
      ]
     },
     "execution_count": 35,
     "metadata": {},
     "output_type": "execute_result"
    }
   ],
   "source": [
    "df_recency"
   ]
  },
  {
   "cell_type": "code",
   "execution_count": 36,
   "id": "e943d789",
   "metadata": {},
   "outputs": [
    {
     "data": {
      "text/plain": [
       "Period('2021-12', 'M')"
      ]
     },
     "execution_count": 36,
     "metadata": {},
     "output_type": "execute_result"
    }
   ],
   "source": [
    "snapshot_date = df_transac.MONTH_ID.max()\n",
    "snapshot_date"
   ]
  },
  {
   "cell_type": "code",
   "execution_count": 37,
   "id": "7e0d9aaa",
   "metadata": {},
   "outputs": [],
   "source": [
    "df_recency['RECENCY'] = df_recency.LAST_DATE_TRANSACTION.apply(lambda x: (snapshot_date - x).n * 30)"
   ]
  },
  {
   "cell_type": "code",
   "execution_count": 38,
   "id": "17f460a7",
   "metadata": {},
   "outputs": [
    {
     "data": {
      "text/html": [
       "<div>\n",
       "<style scoped>\n",
       "    .dataframe tbody tr th:only-of-type {\n",
       "        vertical-align: middle;\n",
       "    }\n",
       "\n",
       "    .dataframe tbody tr th {\n",
       "        vertical-align: top;\n",
       "    }\n",
       "\n",
       "    .dataframe thead th {\n",
       "        text-align: right;\n",
       "    }\n",
       "</style>\n",
       "<table border=\"1\" class=\"dataframe\">\n",
       "  <thead>\n",
       "    <tr style=\"text-align: right;\">\n",
       "      <th></th>\n",
       "      <th>MEMBER_ID</th>\n",
       "      <th>LAST_DATE_TRANSACTION</th>\n",
       "      <th>RECENCY</th>\n",
       "    </tr>\n",
       "  </thead>\n",
       "  <tbody>\n",
       "    <tr>\n",
       "      <th>0</th>\n",
       "      <td>44</td>\n",
       "      <td>2020-02</td>\n",
       "      <td>660</td>\n",
       "    </tr>\n",
       "    <tr>\n",
       "      <th>1</th>\n",
       "      <td>112</td>\n",
       "      <td>2021-09</td>\n",
       "      <td>90</td>\n",
       "    </tr>\n",
       "    <tr>\n",
       "      <th>2</th>\n",
       "      <td>123</td>\n",
       "      <td>2020-10</td>\n",
       "      <td>420</td>\n",
       "    </tr>\n",
       "    <tr>\n",
       "      <th>3</th>\n",
       "      <td>170</td>\n",
       "      <td>2021-12</td>\n",
       "      <td>0</td>\n",
       "    </tr>\n",
       "    <tr>\n",
       "      <th>4</th>\n",
       "      <td>183</td>\n",
       "      <td>2021-12</td>\n",
       "      <td>0</td>\n",
       "    </tr>\n",
       "    <tr>\n",
       "      <th>...</th>\n",
       "      <td>...</td>\n",
       "      <td>...</td>\n",
       "      <td>...</td>\n",
       "    </tr>\n",
       "    <tr>\n",
       "      <th>1202977</th>\n",
       "      <td>1019008669</td>\n",
       "      <td>2021-12</td>\n",
       "      <td>0</td>\n",
       "    </tr>\n",
       "    <tr>\n",
       "      <th>1202978</th>\n",
       "      <td>1019011271</td>\n",
       "      <td>2021-12</td>\n",
       "      <td>0</td>\n",
       "    </tr>\n",
       "    <tr>\n",
       "      <th>1202979</th>\n",
       "      <td>1019016174</td>\n",
       "      <td>2021-12</td>\n",
       "      <td>0</td>\n",
       "    </tr>\n",
       "    <tr>\n",
       "      <th>1202980</th>\n",
       "      <td>1019019110</td>\n",
       "      <td>2021-12</td>\n",
       "      <td>0</td>\n",
       "    </tr>\n",
       "    <tr>\n",
       "      <th>1202981</th>\n",
       "      <td>1019023002</td>\n",
       "      <td>2021-12</td>\n",
       "      <td>0</td>\n",
       "    </tr>\n",
       "  </tbody>\n",
       "</table>\n",
       "<p>1202982 rows × 3 columns</p>\n",
       "</div>"
      ],
      "text/plain": [
       "          MEMBER_ID LAST_DATE_TRANSACTION  RECENCY\n",
       "0                44               2020-02      660\n",
       "1               112               2021-09       90\n",
       "2               123               2020-10      420\n",
       "3               170               2021-12        0\n",
       "4               183               2021-12        0\n",
       "...             ...                   ...      ...\n",
       "1202977  1019008669               2021-12        0\n",
       "1202978  1019011271               2021-12        0\n",
       "1202979  1019016174               2021-12        0\n",
       "1202980  1019019110               2021-12        0\n",
       "1202981  1019023002               2021-12        0\n",
       "\n",
       "[1202982 rows x 3 columns]"
      ]
     },
     "execution_count": 38,
     "metadata": {},
     "output_type": "execute_result"
    }
   ],
   "source": [
    "df_recency"
   ]
  },
  {
   "cell_type": "code",
   "execution_count": 39,
   "id": "2938a518",
   "metadata": {},
   "outputs": [],
   "source": [
    "df_recency.drop('LAST_DATE_TRANSACTION', axis=1, inplace=True)"
   ]
  },
  {
   "cell_type": "code",
   "execution_count": 40,
   "id": "2e2d6dcb",
   "metadata": {},
   "outputs": [
    {
     "data": {
      "text/plain": [
       "(1202982, 2)"
      ]
     },
     "execution_count": 40,
     "metadata": {},
     "output_type": "execute_result"
    }
   ],
   "source": [
    "df_recency.shape"
   ]
  },
  {
   "cell_type": "markdown",
   "id": "63065721",
   "metadata": {},
   "source": [
    "## <span style='background :yellow' > Variable Mono catégorie / poly catégorie </span>\n",
    "\n",
    "\n"
   ]
  },
  {
   "cell_type": "code",
   "execution_count": 41,
   "id": "37e9bcca",
   "metadata": {},
   "outputs": [],
   "source": [
    "df_number_categories = df_transac.groupby('MEMBER_ID')['RETAILER'].nunique().reset_index(name='NUMBER_CATEGORIES_PURCHASED_FROM')"
   ]
  },
  {
   "cell_type": "code",
   "execution_count": 42,
   "id": "761811b5",
   "metadata": {},
   "outputs": [
    {
     "data": {
      "text/html": [
       "<div>\n",
       "<style scoped>\n",
       "    .dataframe tbody tr th:only-of-type {\n",
       "        vertical-align: middle;\n",
       "    }\n",
       "\n",
       "    .dataframe tbody tr th {\n",
       "        vertical-align: top;\n",
       "    }\n",
       "\n",
       "    .dataframe thead th {\n",
       "        text-align: right;\n",
       "    }\n",
       "</style>\n",
       "<table border=\"1\" class=\"dataframe\">\n",
       "  <thead>\n",
       "    <tr style=\"text-align: right;\">\n",
       "      <th></th>\n",
       "      <th>MEMBER_ID</th>\n",
       "      <th>NUMBER_CATEGORIES_PURCHASED_FROM</th>\n",
       "    </tr>\n",
       "  </thead>\n",
       "  <tbody>\n",
       "    <tr>\n",
       "      <th>0</th>\n",
       "      <td>44</td>\n",
       "      <td>1</td>\n",
       "    </tr>\n",
       "    <tr>\n",
       "      <th>1</th>\n",
       "      <td>112</td>\n",
       "      <td>4</td>\n",
       "    </tr>\n",
       "    <tr>\n",
       "      <th>2</th>\n",
       "      <td>123</td>\n",
       "      <td>3</td>\n",
       "    </tr>\n",
       "    <tr>\n",
       "      <th>3</th>\n",
       "      <td>170</td>\n",
       "      <td>5</td>\n",
       "    </tr>\n",
       "    <tr>\n",
       "      <th>4</th>\n",
       "      <td>183</td>\n",
       "      <td>5</td>\n",
       "    </tr>\n",
       "    <tr>\n",
       "      <th>...</th>\n",
       "      <td>...</td>\n",
       "      <td>...</td>\n",
       "    </tr>\n",
       "    <tr>\n",
       "      <th>1202977</th>\n",
       "      <td>1019008669</td>\n",
       "      <td>4</td>\n",
       "    </tr>\n",
       "    <tr>\n",
       "      <th>1202978</th>\n",
       "      <td>1019011271</td>\n",
       "      <td>4</td>\n",
       "    </tr>\n",
       "    <tr>\n",
       "      <th>1202979</th>\n",
       "      <td>1019016174</td>\n",
       "      <td>3</td>\n",
       "    </tr>\n",
       "    <tr>\n",
       "      <th>1202980</th>\n",
       "      <td>1019019110</td>\n",
       "      <td>5</td>\n",
       "    </tr>\n",
       "    <tr>\n",
       "      <th>1202981</th>\n",
       "      <td>1019023002</td>\n",
       "      <td>1</td>\n",
       "    </tr>\n",
       "  </tbody>\n",
       "</table>\n",
       "<p>1202982 rows × 2 columns</p>\n",
       "</div>"
      ],
      "text/plain": [
       "          MEMBER_ID  NUMBER_CATEGORIES_PURCHASED_FROM\n",
       "0                44                                 1\n",
       "1               112                                 4\n",
       "2               123                                 3\n",
       "3               170                                 5\n",
       "4               183                                 5\n",
       "...             ...                               ...\n",
       "1202977  1019008669                                 4\n",
       "1202978  1019011271                                 4\n",
       "1202979  1019016174                                 3\n",
       "1202980  1019019110                                 5\n",
       "1202981  1019023002                                 1\n",
       "\n",
       "[1202982 rows x 2 columns]"
      ]
     },
     "execution_count": 42,
     "metadata": {},
     "output_type": "execute_result"
    }
   ],
   "source": [
    "df_number_categories"
   ]
  },
  {
   "cell_type": "code",
   "execution_count": 43,
   "id": "d3f88a90",
   "metadata": {},
   "outputs": [
    {
     "data": {
      "text/plain": [
       "(1202982, 2)"
      ]
     },
     "execution_count": 43,
     "metadata": {},
     "output_type": "execute_result"
    }
   ],
   "source": [
    "df_number_categories.shape"
   ]
  },
  {
   "cell_type": "markdown",
   "id": "18c24fb4",
   "metadata": {},
   "source": [
    "# agregation df_reward"
   ]
  },
  {
   "cell_type": "code",
   "execution_count": 44,
   "id": "b9ff6144",
   "metadata": {},
   "outputs": [],
   "source": [
    "df_transac_final = df_transac.groupby('MEMBER_ID')[['BASE_POINTS_EARNED', 'BONUS_POINTS_EARNED', 'REWARD_POINTS_EARNED', 'CASH_BACK_POINTS_EARNED']].sum().reset_index()"
   ]
  },
  {
   "cell_type": "code",
   "execution_count": 45,
   "id": "c415ba6c",
   "metadata": {},
   "outputs": [
    {
     "data": {
      "text/html": [
       "<div>\n",
       "<style scoped>\n",
       "    .dataframe tbody tr th:only-of-type {\n",
       "        vertical-align: middle;\n",
       "    }\n",
       "\n",
       "    .dataframe tbody tr th {\n",
       "        vertical-align: top;\n",
       "    }\n",
       "\n",
       "    .dataframe thead th {\n",
       "        text-align: right;\n",
       "    }\n",
       "</style>\n",
       "<table border=\"1\" class=\"dataframe\">\n",
       "  <thead>\n",
       "    <tr style=\"text-align: right;\">\n",
       "      <th></th>\n",
       "      <th>MEMBER_ID</th>\n",
       "      <th>BASE_POINTS_EARNED</th>\n",
       "      <th>BONUS_POINTS_EARNED</th>\n",
       "      <th>REWARD_POINTS_EARNED</th>\n",
       "      <th>CASH_BACK_POINTS_EARNED</th>\n",
       "    </tr>\n",
       "  </thead>\n",
       "  <tbody>\n",
       "    <tr>\n",
       "      <th>0</th>\n",
       "      <td>44</td>\n",
       "      <td>6</td>\n",
       "      <td>0</td>\n",
       "      <td>6.000000</td>\n",
       "      <td>0.000000</td>\n",
       "    </tr>\n",
       "    <tr>\n",
       "      <th>1</th>\n",
       "      <td>112</td>\n",
       "      <td>163</td>\n",
       "      <td>87</td>\n",
       "      <td>250.000000</td>\n",
       "      <td>0.000000</td>\n",
       "    </tr>\n",
       "    <tr>\n",
       "      <th>2</th>\n",
       "      <td>123</td>\n",
       "      <td>41</td>\n",
       "      <td>25</td>\n",
       "      <td>66.000000</td>\n",
       "      <td>0.000000</td>\n",
       "    </tr>\n",
       "    <tr>\n",
       "      <th>3</th>\n",
       "      <td>170</td>\n",
       "      <td>1657</td>\n",
       "      <td>332</td>\n",
       "      <td>1989.000000</td>\n",
       "      <td>0.000000</td>\n",
       "    </tr>\n",
       "    <tr>\n",
       "      <th>4</th>\n",
       "      <td>183</td>\n",
       "      <td>429</td>\n",
       "      <td>680</td>\n",
       "      <td>1109.000000</td>\n",
       "      <td>0.000000</td>\n",
       "    </tr>\n",
       "    <tr>\n",
       "      <th>...</th>\n",
       "      <td>...</td>\n",
       "      <td>...</td>\n",
       "      <td>...</td>\n",
       "      <td>...</td>\n",
       "      <td>...</td>\n",
       "    </tr>\n",
       "    <tr>\n",
       "      <th>1202977</th>\n",
       "      <td>1019008669</td>\n",
       "      <td>5221</td>\n",
       "      <td>816</td>\n",
       "      <td>6037.000000</td>\n",
       "      <td>0.000000</td>\n",
       "    </tr>\n",
       "    <tr>\n",
       "      <th>1202978</th>\n",
       "      <td>1019011271</td>\n",
       "      <td>696</td>\n",
       "      <td>348</td>\n",
       "      <td>0.000000</td>\n",
       "      <td>1044.000000</td>\n",
       "    </tr>\n",
       "    <tr>\n",
       "      <th>1202979</th>\n",
       "      <td>1019016174</td>\n",
       "      <td>560</td>\n",
       "      <td>646</td>\n",
       "      <td>0.000000</td>\n",
       "      <td>1206.000000</td>\n",
       "    </tr>\n",
       "    <tr>\n",
       "      <th>1202980</th>\n",
       "      <td>1019019110</td>\n",
       "      <td>363</td>\n",
       "      <td>156</td>\n",
       "      <td>0.000000</td>\n",
       "      <td>519.000000</td>\n",
       "    </tr>\n",
       "    <tr>\n",
       "      <th>1202981</th>\n",
       "      <td>1019023002</td>\n",
       "      <td>2828</td>\n",
       "      <td>333</td>\n",
       "      <td>3161.000000</td>\n",
       "      <td>0.000000</td>\n",
       "    </tr>\n",
       "  </tbody>\n",
       "</table>\n",
       "<p>1202982 rows × 5 columns</p>\n",
       "</div>"
      ],
      "text/plain": [
       "          MEMBER_ID  BASE_POINTS_EARNED  BONUS_POINTS_EARNED  \\\n",
       "0                44                   6                    0   \n",
       "1               112                 163                   87   \n",
       "2               123                  41                   25   \n",
       "3               170                1657                  332   \n",
       "4               183                 429                  680   \n",
       "...             ...                 ...                  ...   \n",
       "1202977  1019008669                5221                  816   \n",
       "1202978  1019011271                 696                  348   \n",
       "1202979  1019016174                 560                  646   \n",
       "1202980  1019019110                 363                  156   \n",
       "1202981  1019023002                2828                  333   \n",
       "\n",
       "         REWARD_POINTS_EARNED  CASH_BACK_POINTS_EARNED  \n",
       "0                    6.000000                 0.000000  \n",
       "1                  250.000000                 0.000000  \n",
       "2                   66.000000                 0.000000  \n",
       "3                 1989.000000                 0.000000  \n",
       "4                 1109.000000                 0.000000  \n",
       "...                       ...                      ...  \n",
       "1202977           6037.000000                 0.000000  \n",
       "1202978              0.000000              1044.000000  \n",
       "1202979              0.000000              1206.000000  \n",
       "1202980              0.000000               519.000000  \n",
       "1202981           3161.000000                 0.000000  \n",
       "\n",
       "[1202982 rows x 5 columns]"
      ]
     },
     "execution_count": 45,
     "metadata": {},
     "output_type": "execute_result"
    }
   ],
   "source": [
    "df_transac_final"
   ]
  },
  {
   "cell_type": "code",
   "execution_count": 46,
   "id": "39e00845",
   "metadata": {},
   "outputs": [
    {
     "data": {
      "text/plain": [
       "(1202982, 5)"
      ]
     },
     "execution_count": 46,
     "metadata": {},
     "output_type": "execute_result"
    }
   ],
   "source": [
    "df_transac_final.shape"
   ]
  },
  {
   "cell_type": "markdown",
   "id": "cbc71f4b",
   "metadata": {},
   "source": [
    "# Jointure"
   ]
  },
  {
   "cell_type": "code",
   "execution_count": 47,
   "id": "653de667",
   "metadata": {},
   "outputs": [],
   "source": [
    "df_to_be_merged = [df_transac_final, df_recency, df_number_categories, df_pct_change_covid]"
   ]
  },
  {
   "cell_type": "code",
   "execution_count": 48,
   "id": "c073ab65",
   "metadata": {},
   "outputs": [],
   "source": [
    "df_transac_merged = reduce(lambda left,right: pd.merge(left,right,on=['MEMBER_ID'],\n",
    "                                            how='left'), df_to_be_merged)"
   ]
  },
  {
   "cell_type": "code",
   "execution_count": 49,
   "id": "0bf7c6f6",
   "metadata": {},
   "outputs": [
    {
     "data": {
      "text/html": [
       "<div>\n",
       "<style scoped>\n",
       "    .dataframe tbody tr th:only-of-type {\n",
       "        vertical-align: middle;\n",
       "    }\n",
       "\n",
       "    .dataframe tbody tr th {\n",
       "        vertical-align: top;\n",
       "    }\n",
       "\n",
       "    .dataframe thead th {\n",
       "        text-align: right;\n",
       "    }\n",
       "</style>\n",
       "<table border=\"1\" class=\"dataframe\">\n",
       "  <thead>\n",
       "    <tr style=\"text-align: right;\">\n",
       "      <th></th>\n",
       "      <th>MEMBER_ID</th>\n",
       "      <th>BASE_POINTS_EARNED</th>\n",
       "      <th>BONUS_POINTS_EARNED</th>\n",
       "      <th>REWARD_POINTS_EARNED</th>\n",
       "      <th>CASH_BACK_POINTS_EARNED</th>\n",
       "      <th>RECENCY</th>\n",
       "      <th>NUMBER_CATEGORIES_PURCHASED_FROM</th>\n",
       "      <th>COVID_TRANSACTIONS_PCT_CHANGE</th>\n",
       "    </tr>\n",
       "  </thead>\n",
       "  <tbody>\n",
       "    <tr>\n",
       "      <th>0</th>\n",
       "      <td>44</td>\n",
       "      <td>6</td>\n",
       "      <td>0</td>\n",
       "      <td>6.000000</td>\n",
       "      <td>0.000000</td>\n",
       "      <td>660</td>\n",
       "      <td>1</td>\n",
       "      <td>NaN</td>\n",
       "    </tr>\n",
       "    <tr>\n",
       "      <th>1</th>\n",
       "      <td>112</td>\n",
       "      <td>163</td>\n",
       "      <td>87</td>\n",
       "      <td>250.000000</td>\n",
       "      <td>0.000000</td>\n",
       "      <td>90</td>\n",
       "      <td>4</td>\n",
       "      <td>-0.392857</td>\n",
       "    </tr>\n",
       "    <tr>\n",
       "      <th>2</th>\n",
       "      <td>123</td>\n",
       "      <td>41</td>\n",
       "      <td>25</td>\n",
       "      <td>66.000000</td>\n",
       "      <td>0.000000</td>\n",
       "      <td>420</td>\n",
       "      <td>3</td>\n",
       "      <td>0.500000</td>\n",
       "    </tr>\n",
       "    <tr>\n",
       "      <th>3</th>\n",
       "      <td>170</td>\n",
       "      <td>1657</td>\n",
       "      <td>332</td>\n",
       "      <td>1989.000000</td>\n",
       "      <td>0.000000</td>\n",
       "      <td>0</td>\n",
       "      <td>5</td>\n",
       "      <td>0.544444</td>\n",
       "    </tr>\n",
       "    <tr>\n",
       "      <th>4</th>\n",
       "      <td>183</td>\n",
       "      <td>429</td>\n",
       "      <td>680</td>\n",
       "      <td>1109.000000</td>\n",
       "      <td>0.000000</td>\n",
       "      <td>0</td>\n",
       "      <td>5</td>\n",
       "      <td>0.061856</td>\n",
       "    </tr>\n",
       "    <tr>\n",
       "      <th>...</th>\n",
       "      <td>...</td>\n",
       "      <td>...</td>\n",
       "      <td>...</td>\n",
       "      <td>...</td>\n",
       "      <td>...</td>\n",
       "      <td>...</td>\n",
       "      <td>...</td>\n",
       "      <td>...</td>\n",
       "    </tr>\n",
       "    <tr>\n",
       "      <th>1202977</th>\n",
       "      <td>1019008669</td>\n",
       "      <td>5221</td>\n",
       "      <td>816</td>\n",
       "      <td>6037.000000</td>\n",
       "      <td>0.000000</td>\n",
       "      <td>0</td>\n",
       "      <td>4</td>\n",
       "      <td>-0.441176</td>\n",
       "    </tr>\n",
       "    <tr>\n",
       "      <th>1202978</th>\n",
       "      <td>1019011271</td>\n",
       "      <td>696</td>\n",
       "      <td>348</td>\n",
       "      <td>0.000000</td>\n",
       "      <td>1044.000000</td>\n",
       "      <td>0</td>\n",
       "      <td>4</td>\n",
       "      <td>-0.047244</td>\n",
       "    </tr>\n",
       "    <tr>\n",
       "      <th>1202979</th>\n",
       "      <td>1019016174</td>\n",
       "      <td>560</td>\n",
       "      <td>646</td>\n",
       "      <td>0.000000</td>\n",
       "      <td>1206.000000</td>\n",
       "      <td>0</td>\n",
       "      <td>3</td>\n",
       "      <td>-0.552632</td>\n",
       "    </tr>\n",
       "    <tr>\n",
       "      <th>1202980</th>\n",
       "      <td>1019019110</td>\n",
       "      <td>363</td>\n",
       "      <td>156</td>\n",
       "      <td>0.000000</td>\n",
       "      <td>519.000000</td>\n",
       "      <td>0</td>\n",
       "      <td>5</td>\n",
       "      <td>-0.156522</td>\n",
       "    </tr>\n",
       "    <tr>\n",
       "      <th>1202981</th>\n",
       "      <td>1019023002</td>\n",
       "      <td>2828</td>\n",
       "      <td>333</td>\n",
       "      <td>3161.000000</td>\n",
       "      <td>0.000000</td>\n",
       "      <td>0</td>\n",
       "      <td>1</td>\n",
       "      <td>-0.166667</td>\n",
       "    </tr>\n",
       "  </tbody>\n",
       "</table>\n",
       "<p>1202982 rows × 8 columns</p>\n",
       "</div>"
      ],
      "text/plain": [
       "          MEMBER_ID  BASE_POINTS_EARNED  BONUS_POINTS_EARNED  \\\n",
       "0                44                   6                    0   \n",
       "1               112                 163                   87   \n",
       "2               123                  41                   25   \n",
       "3               170                1657                  332   \n",
       "4               183                 429                  680   \n",
       "...             ...                 ...                  ...   \n",
       "1202977  1019008669                5221                  816   \n",
       "1202978  1019011271                 696                  348   \n",
       "1202979  1019016174                 560                  646   \n",
       "1202980  1019019110                 363                  156   \n",
       "1202981  1019023002                2828                  333   \n",
       "\n",
       "         REWARD_POINTS_EARNED  CASH_BACK_POINTS_EARNED  RECENCY  \\\n",
       "0                    6.000000                 0.000000      660   \n",
       "1                  250.000000                 0.000000       90   \n",
       "2                   66.000000                 0.000000      420   \n",
       "3                 1989.000000                 0.000000        0   \n",
       "4                 1109.000000                 0.000000        0   \n",
       "...                       ...                      ...      ...   \n",
       "1202977           6037.000000                 0.000000        0   \n",
       "1202978              0.000000              1044.000000        0   \n",
       "1202979              0.000000              1206.000000        0   \n",
       "1202980              0.000000               519.000000        0   \n",
       "1202981           3161.000000                 0.000000        0   \n",
       "\n",
       "         NUMBER_CATEGORIES_PURCHASED_FROM  COVID_TRANSACTIONS_PCT_CHANGE  \n",
       "0                                       1                            NaN  \n",
       "1                                       4                      -0.392857  \n",
       "2                                       3                       0.500000  \n",
       "3                                       5                       0.544444  \n",
       "4                                       5                       0.061856  \n",
       "...                                   ...                            ...  \n",
       "1202977                                 4                      -0.441176  \n",
       "1202978                                 4                      -0.047244  \n",
       "1202979                                 3                      -0.552632  \n",
       "1202980                                 5                      -0.156522  \n",
       "1202981                                 1                      -0.166667  \n",
       "\n",
       "[1202982 rows x 8 columns]"
      ]
     },
     "execution_count": 49,
     "metadata": {},
     "output_type": "execute_result"
    }
   ],
   "source": [
    "df_transac_merged"
   ]
  },
  {
   "cell_type": "code",
   "execution_count": 50,
   "id": "32799618",
   "metadata": {},
   "outputs": [
    {
     "data": {
      "text/plain": [
       "(1202982, 8)"
      ]
     },
     "execution_count": 50,
     "metadata": {},
     "output_type": "execute_result"
    }
   ],
   "source": [
    "df_transac_merged.shape"
   ]
  },
  {
   "cell_type": "code",
   "execution_count": 51,
   "id": "388a7f70",
   "metadata": {},
   "outputs": [],
   "source": [
    "output_to_csv = True"
   ]
  },
  {
   "cell_type": "code",
   "execution_count": 52,
   "id": "29fd5288",
   "metadata": {},
   "outputs": [],
   "source": [
    "if output_to_csv:\n",
    "    df_transac_merged.to_csv('DATA_PRETRAITEMENT/df_transaction.csv', index=False)"
   ]
  },
  {
   "cell_type": "code",
   "execution_count": null,
   "id": "4c77e180",
   "metadata": {},
   "outputs": [],
   "source": []
  }
 ],
 "metadata": {
  "kernelspec": {
   "display_name": "Python 3",
   "language": "python",
   "name": "python3"
  },
  "language_info": {
   "codemirror_mode": {
    "name": "ipython",
    "version": 3
   },
   "file_extension": ".py",
   "mimetype": "text/x-python",
   "name": "python",
   "nbconvert_exporter": "python",
   "pygments_lexer": "ipython3",
   "version": "3.8.8"
  }
 },
 "nbformat": 4,
 "nbformat_minor": 5
}
