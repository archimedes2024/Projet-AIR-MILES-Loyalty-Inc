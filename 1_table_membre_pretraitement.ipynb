{
 "cells": [
  {
   "cell_type": "code",
   "execution_count": 1,
   "id": "fb39c014",
   "metadata": {},
   "outputs": [],
   "source": [
    "\n",
    "import pandas as pd\n",
    "import numpy as np\n",
    "import matplotlib.pyplot as plt\n",
    "import seaborn\n",
    "import os"
   ]
  },
  {
   "cell_type": "markdown",
   "id": "38fbd085",
   "metadata": {},
   "source": [
    "# Importation de la base de données MEMBERS\n"
   ]
  },
  {
   "cell_type": "code",
   "execution_count": 2,
   "id": "d1d0e067",
   "metadata": {},
   "outputs": [],
   "source": [
    "df_membre = pd.read_csv(\"DATA_ORIGINAL/MEMBERS_DIM.csv\")"
   ]
  },
  {
   "cell_type": "code",
   "execution_count": 3,
   "id": "e40ad284",
   "metadata": {},
   "outputs": [
    {
     "data": {
      "text/html": [
       "<div>\n",
       "<style scoped>\n",
       "    .dataframe tbody tr th:only-of-type {\n",
       "        vertical-align: middle;\n",
       "    }\n",
       "\n",
       "    .dataframe tbody tr th {\n",
       "        vertical-align: top;\n",
       "    }\n",
       "\n",
       "    .dataframe thead th {\n",
       "        text-align: right;\n",
       "    }\n",
       "</style>\n",
       "<table border=\"1\" class=\"dataframe\">\n",
       "  <thead>\n",
       "    <tr style=\"text-align: right;\">\n",
       "      <th></th>\n",
       "      <th>MEMBER_ID</th>\n",
       "      <th>AGE</th>\n",
       "      <th>GENDER</th>\n",
       "      <th>LANGUAGE</th>\n",
       "      <th>TIER</th>\n",
       "      <th>SMALL_BUSINESS_FLAG</th>\n",
       "      <th>TENURE_MONTHS</th>\n",
       "      <th>PROV</th>\n",
       "      <th>CASH_BACK_POINTS_BALANCE</th>\n",
       "      <th>REWARD_POINTS_BALANCE</th>\n",
       "      <th>EMAILABLE_FLAG</th>\n",
       "      <th>MAILABLE_FLAG</th>\n",
       "    </tr>\n",
       "  </thead>\n",
       "  <tbody>\n",
       "    <tr>\n",
       "      <th>0</th>\n",
       "      <td>859615</td>\n",
       "      <td>80.0</td>\n",
       "      <td>M</td>\n",
       "      <td>E</td>\n",
       "      <td>Basic</td>\n",
       "      <td>N</td>\n",
       "      <td>362</td>\n",
       "      <td>ON</td>\n",
       "      <td>14</td>\n",
       "      <td>636</td>\n",
       "      <td>N</td>\n",
       "      <td>Y</td>\n",
       "    </tr>\n",
       "    <tr>\n",
       "      <th>1</th>\n",
       "      <td>12684534</td>\n",
       "      <td>60.0</td>\n",
       "      <td>F</td>\n",
       "      <td>E</td>\n",
       "      <td>Basic</td>\n",
       "      <td>N</td>\n",
       "      <td>256</td>\n",
       "      <td>MB</td>\n",
       "      <td>0</td>\n",
       "      <td>419</td>\n",
       "      <td>N</td>\n",
       "      <td>Y</td>\n",
       "    </tr>\n",
       "    <tr>\n",
       "      <th>2</th>\n",
       "      <td>14130778</td>\n",
       "      <td>47.0</td>\n",
       "      <td>F</td>\n",
       "      <td>F</td>\n",
       "      <td>Basic</td>\n",
       "      <td>N</td>\n",
       "      <td>236</td>\n",
       "      <td>QC</td>\n",
       "      <td>116</td>\n",
       "      <td>195</td>\n",
       "      <td>Y</td>\n",
       "      <td>Y</td>\n",
       "    </tr>\n",
       "    <tr>\n",
       "      <th>3</th>\n",
       "      <td>18899440</td>\n",
       "      <td>39.0</td>\n",
       "      <td>NaN</td>\n",
       "      <td>F</td>\n",
       "      <td>Basic</td>\n",
       "      <td>N</td>\n",
       "      <td>185</td>\n",
       "      <td>QC</td>\n",
       "      <td>0</td>\n",
       "      <td>7</td>\n",
       "      <td>N</td>\n",
       "      <td>Y</td>\n",
       "    </tr>\n",
       "    <tr>\n",
       "      <th>4</th>\n",
       "      <td>1011315776</td>\n",
       "      <td>NaN</td>\n",
       "      <td>NaN</td>\n",
       "      <td>E</td>\n",
       "      <td>Basic</td>\n",
       "      <td>N</td>\n",
       "      <td>47</td>\n",
       "      <td>NaN</td>\n",
       "      <td>0</td>\n",
       "      <td>0</td>\n",
       "      <td>NaN</td>\n",
       "      <td>N</td>\n",
       "    </tr>\n",
       "  </tbody>\n",
       "</table>\n",
       "</div>"
      ],
      "text/plain": [
       "    MEMBER_ID   AGE GENDER LANGUAGE   TIER SMALL_BUSINESS_FLAG  TENURE_MONTHS  \\\n",
       "0      859615  80.0      M        E  Basic                   N            362   \n",
       "1    12684534  60.0      F        E  Basic                   N            256   \n",
       "2    14130778  47.0      F        F  Basic                   N            236   \n",
       "3    18899440  39.0    NaN        F  Basic                   N            185   \n",
       "4  1011315776   NaN    NaN        E  Basic                   N             47   \n",
       "\n",
       "  PROV  CASH_BACK_POINTS_BALANCE  REWARD_POINTS_BALANCE EMAILABLE_FLAG  \\\n",
       "0   ON                        14                    636              N   \n",
       "1   MB                         0                    419              N   \n",
       "2   QC                       116                    195              Y   \n",
       "3   QC                         0                      7              N   \n",
       "4  NaN                         0                      0            NaN   \n",
       "\n",
       "  MAILABLE_FLAG  \n",
       "0             Y  \n",
       "1             Y  \n",
       "2             Y  \n",
       "3             Y  \n",
       "4             N  "
      ]
     },
     "execution_count": 3,
     "metadata": {},
     "output_type": "execute_result"
    }
   ],
   "source": [
    "df_membre.head()"
   ]
  },
  {
   "cell_type": "code",
   "execution_count": 4,
   "id": "a3164a42",
   "metadata": {},
   "outputs": [
    {
     "data": {
      "text/plain": [
       "(1202985, 12)"
      ]
     },
     "execution_count": 4,
     "metadata": {},
     "output_type": "execute_result"
    }
   ],
   "source": [
    "df_membre.shape"
   ]
  },
  {
   "cell_type": "code",
   "execution_count": 5,
   "id": "9c57fd99",
   "metadata": {},
   "outputs": [
    {
     "data": {
      "text/plain": [
       "0"
      ]
     },
     "execution_count": 5,
     "metadata": {},
     "output_type": "execute_result"
    }
   ],
   "source": [
    "# lignes dupliquées\n",
    "df_membre.duplicated().sum()"
   ]
  },
  {
   "cell_type": "code",
   "execution_count": 6,
   "id": "cabb3c3b",
   "metadata": {},
   "outputs": [],
   "source": [
    "# supprimer la variable TIER car c'est une segmentation fait par Airmilles\n",
    "df_membre.drop('TIER', axis=1, inplace=True)"
   ]
  },
  {
   "cell_type": "markdown",
   "id": "b9abf7a8",
   "metadata": {},
   "source": [
    "# Analyse exploratoire de la Base de Donnees"
   ]
  },
  {
   "cell_type": "code",
   "execution_count": 7,
   "id": "905aedd9",
   "metadata": {},
   "outputs": [
    {
     "data": {
      "text/plain": [
       "MEMBER_ID                    0.000000\n",
       "AGE                         14.547230\n",
       "GENDER                      33.274646\n",
       "LANGUAGE                     0.012552\n",
       "SMALL_BUSINESS_FLAG          0.000000\n",
       "TENURE_MONTHS                0.000000\n",
       "PROV                         6.140642\n",
       "CASH_BACK_POINTS_BALANCE     0.000000\n",
       "REWARD_POINTS_BALANCE        0.000000\n",
       "EMAILABLE_FLAG              20.047299\n",
       "MAILABLE_FLAG                0.000000\n",
       "dtype: float64"
      ]
     },
     "execution_count": 7,
     "metadata": {},
     "output_type": "execute_result"
    }
   ],
   "source": [
    "# pourcentage de valeurs manquantes de chaque variable\n",
    "df_membre.isnull().sum() / df_membre.shape[0] * 100"
   ]
  },
  {
   "cell_type": "code",
   "execution_count": 8,
   "id": "1f713d7a",
   "metadata": {},
   "outputs": [
    {
     "data": {
      "text/plain": [
       "MEMBER_ID                     int64\n",
       "AGE                         float64\n",
       "GENDER                       object\n",
       "LANGUAGE                     object\n",
       "SMALL_BUSINESS_FLAG          object\n",
       "TENURE_MONTHS                 int64\n",
       "PROV                         object\n",
       "CASH_BACK_POINTS_BALANCE      int64\n",
       "REWARD_POINTS_BALANCE         int64\n",
       "EMAILABLE_FLAG               object\n",
       "MAILABLE_FLAG                object\n",
       "dtype: object"
      ]
     },
     "execution_count": 8,
     "metadata": {},
     "output_type": "execute_result"
    }
   ],
   "source": [
    "# type de donnée de chaque variable \n",
    "df_membre.dtypes"
   ]
  },
  {
   "cell_type": "code",
   "execution_count": 9,
   "id": "3061052e",
   "metadata": {},
   "outputs": [],
   "source": [
    "pd.set_option('float_format', '{:f}'.format)"
   ]
  },
  {
   "cell_type": "code",
   "execution_count": 10,
   "id": "92dcd484",
   "metadata": {
    "scrolled": true
   },
   "outputs": [
    {
     "data": {
      "text/html": [
       "<div>\n",
       "<style scoped>\n",
       "    .dataframe tbody tr th:only-of-type {\n",
       "        vertical-align: middle;\n",
       "    }\n",
       "\n",
       "    .dataframe tbody tr th {\n",
       "        vertical-align: top;\n",
       "    }\n",
       "\n",
       "    .dataframe thead th {\n",
       "        text-align: right;\n",
       "    }\n",
       "</style>\n",
       "<table border=\"1\" class=\"dataframe\">\n",
       "  <thead>\n",
       "    <tr style=\"text-align: right;\">\n",
       "      <th></th>\n",
       "      <th>AGE</th>\n",
       "      <th>TENURE_MONTHS</th>\n",
       "      <th>CASH_BACK_POINTS_BALANCE</th>\n",
       "      <th>REWARD_POINTS_BALANCE</th>\n",
       "    </tr>\n",
       "  </thead>\n",
       "  <tbody>\n",
       "    <tr>\n",
       "      <th>count</th>\n",
       "      <td>1027984.000000</td>\n",
       "      <td>1202985.000000</td>\n",
       "      <td>1202985.000000</td>\n",
       "      <td>1202985.000000</td>\n",
       "    </tr>\n",
       "    <tr>\n",
       "      <th>mean</th>\n",
       "      <td>52.630494</td>\n",
       "      <td>189.669142</td>\n",
       "      <td>113.480202</td>\n",
       "      <td>1764.888851</td>\n",
       "    </tr>\n",
       "    <tr>\n",
       "      <th>std</th>\n",
       "      <td>22.450500</td>\n",
       "      <td>112.615777</td>\n",
       "      <td>804.555146</td>\n",
       "      <td>5189.435648</td>\n",
       "    </tr>\n",
       "    <tr>\n",
       "      <th>min</th>\n",
       "      <td>-6101.000000</td>\n",
       "      <td>0.000000</td>\n",
       "      <td>-17080.000000</td>\n",
       "      <td>-16457.000000</td>\n",
       "    </tr>\n",
       "    <tr>\n",
       "      <th>25%</th>\n",
       "      <td>39.000000</td>\n",
       "      <td>83.000000</td>\n",
       "      <td>0.000000</td>\n",
       "      <td>0.000000</td>\n",
       "    </tr>\n",
       "    <tr>\n",
       "      <th>50%</th>\n",
       "      <td>53.000000</td>\n",
       "      <td>195.000000</td>\n",
       "      <td>0.000000</td>\n",
       "      <td>290.000000</td>\n",
       "    </tr>\n",
       "    <tr>\n",
       "      <th>75%</th>\n",
       "      <td>66.000000</td>\n",
       "      <td>292.000000</td>\n",
       "      <td>66.000000</td>\n",
       "      <td>1657.000000</td>\n",
       "    </tr>\n",
       "    <tr>\n",
       "      <th>max</th>\n",
       "      <td>2021.000000</td>\n",
       "      <td>372.000000</td>\n",
       "      <td>157002.000000</td>\n",
       "      <td>982394.000000</td>\n",
       "    </tr>\n",
       "  </tbody>\n",
       "</table>\n",
       "</div>"
      ],
      "text/plain": [
       "                 AGE  TENURE_MONTHS  CASH_BACK_POINTS_BALANCE  \\\n",
       "count 1027984.000000 1202985.000000            1202985.000000   \n",
       "mean       52.630494     189.669142                113.480202   \n",
       "std        22.450500     112.615777                804.555146   \n",
       "min     -6101.000000       0.000000             -17080.000000   \n",
       "25%        39.000000      83.000000                  0.000000   \n",
       "50%        53.000000     195.000000                  0.000000   \n",
       "75%        66.000000     292.000000                 66.000000   \n",
       "max      2021.000000     372.000000             157002.000000   \n",
       "\n",
       "       REWARD_POINTS_BALANCE  \n",
       "count         1202985.000000  \n",
       "mean             1764.888851  \n",
       "std              5189.435648  \n",
       "min            -16457.000000  \n",
       "25%                 0.000000  \n",
       "50%               290.000000  \n",
       "75%              1657.000000  \n",
       "max            982394.000000  "
      ]
     },
     "execution_count": 10,
     "metadata": {},
     "output_type": "execute_result"
    }
   ],
   "source": [
    "# statistique descriptives variables numériques\n",
    "df_membre.drop('MEMBER_ID', axis=1).describe()"
   ]
  },
  {
   "cell_type": "code",
   "execution_count": 11,
   "id": "1c5ffecc",
   "metadata": {},
   "outputs": [
    {
     "data": {
      "text/plain": [
       "AGE                         59.000000\n",
       "TENURE_MONTHS              304.000000\n",
       "CASH_BACK_POINTS_BALANCE     0.000000\n",
       "REWARD_POINTS_BALANCE        0.000000\n",
       "Name: 0, dtype: float64"
      ]
     },
     "execution_count": 11,
     "metadata": {},
     "output_type": "execute_result"
    }
   ],
   "source": [
    "mode = df_membre.drop('MEMBER_ID', axis=1).mode(numeric_only=True).loc[0]\n",
    "mode"
   ]
  },
  {
   "cell_type": "code",
   "execution_count": 12,
   "id": "9468f2c3",
   "metadata": {},
   "outputs": [
    {
     "data": {
      "text/html": [
       "<div>\n",
       "<style scoped>\n",
       "    .dataframe tbody tr th:only-of-type {\n",
       "        vertical-align: middle;\n",
       "    }\n",
       "\n",
       "    .dataframe tbody tr th {\n",
       "        vertical-align: top;\n",
       "    }\n",
       "\n",
       "    .dataframe thead th {\n",
       "        text-align: right;\n",
       "    }\n",
       "</style>\n",
       "<table border=\"1\" class=\"dataframe\">\n",
       "  <thead>\n",
       "    <tr style=\"text-align: right;\">\n",
       "      <th></th>\n",
       "      <th>GENDER</th>\n",
       "      <th>LANGUAGE</th>\n",
       "      <th>SMALL_BUSINESS_FLAG</th>\n",
       "      <th>PROV</th>\n",
       "      <th>EMAILABLE_FLAG</th>\n",
       "      <th>MAILABLE_FLAG</th>\n",
       "    </tr>\n",
       "  </thead>\n",
       "  <tbody>\n",
       "    <tr>\n",
       "      <th>count</th>\n",
       "      <td>802696</td>\n",
       "      <td>1202834</td>\n",
       "      <td>1202985</td>\n",
       "      <td>1129114</td>\n",
       "      <td>961819</td>\n",
       "      <td>1202985</td>\n",
       "    </tr>\n",
       "    <tr>\n",
       "      <th>unique</th>\n",
       "      <td>2</td>\n",
       "      <td>2</td>\n",
       "      <td>1</td>\n",
       "      <td>13</td>\n",
       "      <td>2</td>\n",
       "      <td>2</td>\n",
       "    </tr>\n",
       "    <tr>\n",
       "      <th>top</th>\n",
       "      <td>F</td>\n",
       "      <td>E</td>\n",
       "      <td>N</td>\n",
       "      <td>ON</td>\n",
       "      <td>Y</td>\n",
       "      <td>Y</td>\n",
       "    </tr>\n",
       "    <tr>\n",
       "      <th>freq</th>\n",
       "      <td>478506</td>\n",
       "      <td>994936</td>\n",
       "      <td>1202985</td>\n",
       "      <td>420382</td>\n",
       "      <td>489998</td>\n",
       "      <td>1060413</td>\n",
       "    </tr>\n",
       "  </tbody>\n",
       "</table>\n",
       "</div>"
      ],
      "text/plain": [
       "        GENDER LANGUAGE SMALL_BUSINESS_FLAG     PROV EMAILABLE_FLAG  \\\n",
       "count   802696  1202834             1202985  1129114         961819   \n",
       "unique       2        2                   1       13              2   \n",
       "top          F        E                   N       ON              Y   \n",
       "freq    478506   994936             1202985   420382         489998   \n",
       "\n",
       "       MAILABLE_FLAG  \n",
       "count        1202985  \n",
       "unique             2  \n",
       "top                Y  \n",
       "freq         1060413  "
      ]
     },
     "execution_count": 12,
     "metadata": {},
     "output_type": "execute_result"
    }
   ],
   "source": [
    "# statistique descriptives variables caractères\n",
    "df_membre.describe(include=[object])"
   ]
  },
  {
   "cell_type": "markdown",
   "id": "a70c99ad",
   "metadata": {},
   "source": [
    "\n",
    "## <span style='background :yellow' > Variable MEMBER_ID </span>"
   ]
  },
  {
   "cell_type": "code",
   "execution_count": 13,
   "id": "9e571ef7",
   "metadata": {},
   "outputs": [
    {
     "data": {
      "text/plain": [
       "True"
      ]
     },
     "execution_count": 13,
     "metadata": {},
     "output_type": "execute_result"
    }
   ],
   "source": [
    "#chaque ligne représente un client unique\n",
    "df_membre.MEMBER_ID.nunique()== df_membre.shape[0]\n"
   ]
  },
  {
   "cell_type": "markdown",
   "id": "32adac57",
   "metadata": {},
   "source": [
    "## <span style='background :yellow' > Variable AGE </span>\n",
    "\n",
    "[liste de supercentenaires ](https://en.wikipedia.org/wiki/List_of_Canadian_supercentenarians)\n",
    "\n",
    "[Age minimun ](https://www.airmiles.ca/en/terms-and-conditions.html) "
   ]
  },
  {
   "cell_type": "code",
   "execution_count": 14,
   "id": "d6db40b9",
   "metadata": {},
   "outputs": [
    {
     "data": {
      "text/html": [
       "<div>\n",
       "<style scoped>\n",
       "    .dataframe tbody tr th:only-of-type {\n",
       "        vertical-align: middle;\n",
       "    }\n",
       "\n",
       "    .dataframe tbody tr th {\n",
       "        vertical-align: top;\n",
       "    }\n",
       "\n",
       "    .dataframe thead th {\n",
       "        text-align: right;\n",
       "    }\n",
       "</style>\n",
       "<table border=\"1\" class=\"dataframe\">\n",
       "  <thead>\n",
       "    <tr style=\"text-align: right;\">\n",
       "      <th></th>\n",
       "      <th>MEMBER_ID</th>\n",
       "      <th>AGE</th>\n",
       "      <th>GENDER</th>\n",
       "      <th>LANGUAGE</th>\n",
       "      <th>SMALL_BUSINESS_FLAG</th>\n",
       "      <th>TENURE_MONTHS</th>\n",
       "      <th>PROV</th>\n",
       "      <th>CASH_BACK_POINTS_BALANCE</th>\n",
       "      <th>REWARD_POINTS_BALANCE</th>\n",
       "      <th>EMAILABLE_FLAG</th>\n",
       "      <th>MAILABLE_FLAG</th>\n",
       "    </tr>\n",
       "  </thead>\n",
       "  <tbody>\n",
       "    <tr>\n",
       "      <th>2108</th>\n",
       "      <td>1010915155</td>\n",
       "      <td>131.000000</td>\n",
       "      <td>F</td>\n",
       "      <td>E</td>\n",
       "      <td>N</td>\n",
       "      <td>84</td>\n",
       "      <td>MB</td>\n",
       "      <td>0</td>\n",
       "      <td>181</td>\n",
       "      <td>Y</td>\n",
       "      <td>Y</td>\n",
       "    </tr>\n",
       "    <tr>\n",
       "      <th>6618</th>\n",
       "      <td>18753959</td>\n",
       "      <td>15.000000</td>\n",
       "      <td>NaN</td>\n",
       "      <td>E</td>\n",
       "      <td>N</td>\n",
       "      <td>183</td>\n",
       "      <td>ON</td>\n",
       "      <td>0</td>\n",
       "      <td>0</td>\n",
       "      <td>N</td>\n",
       "      <td>Y</td>\n",
       "    </tr>\n",
       "    <tr>\n",
       "      <th>8596</th>\n",
       "      <td>1000833768</td>\n",
       "      <td>138.000000</td>\n",
       "      <td>NaN</td>\n",
       "      <td>E</td>\n",
       "      <td>N</td>\n",
       "      <td>175</td>\n",
       "      <td>ON</td>\n",
       "      <td>0</td>\n",
       "      <td>1993</td>\n",
       "      <td>N</td>\n",
       "      <td>Y</td>\n",
       "    </tr>\n",
       "    <tr>\n",
       "      <th>12922</th>\n",
       "      <td>1002256082</td>\n",
       "      <td>122.000000</td>\n",
       "      <td>NaN</td>\n",
       "      <td>E</td>\n",
       "      <td>N</td>\n",
       "      <td>158</td>\n",
       "      <td>AB</td>\n",
       "      <td>0</td>\n",
       "      <td>6833</td>\n",
       "      <td>N</td>\n",
       "      <td>N</td>\n",
       "    </tr>\n",
       "    <tr>\n",
       "      <th>18666</th>\n",
       "      <td>1003132105</td>\n",
       "      <td>12.000000</td>\n",
       "      <td>NaN</td>\n",
       "      <td>E</td>\n",
       "      <td>N</td>\n",
       "      <td>151</td>\n",
       "      <td>ON</td>\n",
       "      <td>0</td>\n",
       "      <td>2434</td>\n",
       "      <td>N</td>\n",
       "      <td>Y</td>\n",
       "    </tr>\n",
       "    <tr>\n",
       "      <th>...</th>\n",
       "      <td>...</td>\n",
       "      <td>...</td>\n",
       "      <td>...</td>\n",
       "      <td>...</td>\n",
       "      <td>...</td>\n",
       "      <td>...</td>\n",
       "      <td>...</td>\n",
       "      <td>...</td>\n",
       "      <td>...</td>\n",
       "      <td>...</td>\n",
       "      <td>...</td>\n",
       "    </tr>\n",
       "    <tr>\n",
       "      <th>1192665</th>\n",
       "      <td>13186221</td>\n",
       "      <td>122.000000</td>\n",
       "      <td>NaN</td>\n",
       "      <td>E</td>\n",
       "      <td>N</td>\n",
       "      <td>247</td>\n",
       "      <td>ON</td>\n",
       "      <td>0</td>\n",
       "      <td>8</td>\n",
       "      <td>Y</td>\n",
       "      <td>Y</td>\n",
       "    </tr>\n",
       "    <tr>\n",
       "      <th>1193285</th>\n",
       "      <td>4333212</td>\n",
       "      <td>123.000000</td>\n",
       "      <td>F</td>\n",
       "      <td>E</td>\n",
       "      <td>N</td>\n",
       "      <td>303</td>\n",
       "      <td>ON</td>\n",
       "      <td>495</td>\n",
       "      <td>857</td>\n",
       "      <td>N</td>\n",
       "      <td>Y</td>\n",
       "    </tr>\n",
       "    <tr>\n",
       "      <th>1193624</th>\n",
       "      <td>11787359</td>\n",
       "      <td>140.000000</td>\n",
       "      <td>NaN</td>\n",
       "      <td>E</td>\n",
       "      <td>N</td>\n",
       "      <td>257</td>\n",
       "      <td>ON</td>\n",
       "      <td>22</td>\n",
       "      <td>2</td>\n",
       "      <td>N</td>\n",
       "      <td>Y</td>\n",
       "    </tr>\n",
       "    <tr>\n",
       "      <th>1196459</th>\n",
       "      <td>1016138760</td>\n",
       "      <td>2021.000000</td>\n",
       "      <td>NaN</td>\n",
       "      <td>E</td>\n",
       "      <td>N</td>\n",
       "      <td>42</td>\n",
       "      <td>ON</td>\n",
       "      <td>0</td>\n",
       "      <td>2001</td>\n",
       "      <td>N</td>\n",
       "      <td>Y</td>\n",
       "    </tr>\n",
       "    <tr>\n",
       "      <th>1196976</th>\n",
       "      <td>13658748</td>\n",
       "      <td>129.000000</td>\n",
       "      <td>NaN</td>\n",
       "      <td>E</td>\n",
       "      <td>N</td>\n",
       "      <td>245</td>\n",
       "      <td>AB</td>\n",
       "      <td>0</td>\n",
       "      <td>22811</td>\n",
       "      <td>N</td>\n",
       "      <td>Y</td>\n",
       "    </tr>\n",
       "  </tbody>\n",
       "</table>\n",
       "<p>421 rows × 11 columns</p>\n",
       "</div>"
      ],
      "text/plain": [
       "          MEMBER_ID         AGE GENDER LANGUAGE SMALL_BUSINESS_FLAG  \\\n",
       "2108     1010915155  131.000000      F        E                   N   \n",
       "6618       18753959   15.000000    NaN        E                   N   \n",
       "8596     1000833768  138.000000    NaN        E                   N   \n",
       "12922    1002256082  122.000000    NaN        E                   N   \n",
       "18666    1003132105   12.000000    NaN        E                   N   \n",
       "...             ...         ...    ...      ...                 ...   \n",
       "1192665    13186221  122.000000    NaN        E                   N   \n",
       "1193285     4333212  123.000000      F        E                   N   \n",
       "1193624    11787359  140.000000    NaN        E                   N   \n",
       "1196459  1016138760 2021.000000    NaN        E                   N   \n",
       "1196976    13658748  129.000000    NaN        E                   N   \n",
       "\n",
       "         TENURE_MONTHS PROV  CASH_BACK_POINTS_BALANCE  REWARD_POINTS_BALANCE  \\\n",
       "2108                84   MB                         0                    181   \n",
       "6618               183   ON                         0                      0   \n",
       "8596               175   ON                         0                   1993   \n",
       "12922              158   AB                         0                   6833   \n",
       "18666              151   ON                         0                   2434   \n",
       "...                ...  ...                       ...                    ...   \n",
       "1192665            247   ON                         0                      8   \n",
       "1193285            303   ON                       495                    857   \n",
       "1193624            257   ON                        22                      2   \n",
       "1196459             42   ON                         0                   2001   \n",
       "1196976            245   AB                         0                  22811   \n",
       "\n",
       "        EMAILABLE_FLAG MAILABLE_FLAG  \n",
       "2108                 Y             Y  \n",
       "6618                 N             Y  \n",
       "8596                 N             Y  \n",
       "12922                N             N  \n",
       "18666                N             Y  \n",
       "...                ...           ...  \n",
       "1192665              Y             Y  \n",
       "1193285              N             Y  \n",
       "1193624              N             Y  \n",
       "1196459              N             Y  \n",
       "1196976              N             Y  \n",
       "\n",
       "[421 rows x 11 columns]"
      ]
     },
     "execution_count": 14,
     "metadata": {},
     "output_type": "execute_result"
    }
   ],
   "source": [
    "#age max au canada d'un human 117\n",
    "#age min pour detenir un carte airmiles est de 16\n",
    "df_membre[(df_membre['AGE']<16) | (df_membre[\"AGE\"]>117)]"
   ]
  },
  {
   "cell_type": "code",
   "execution_count": 15,
   "id": "4f758d28",
   "metadata": {},
   "outputs": [
    {
     "name": "stdout",
     "output_type": "stream",
     "text": [
      "nb de membres avec age manquante:  175001\n",
      "pourcentage de la bae de donnees avec age manquante:  14.547230430969629\n"
     ]
    }
   ],
   "source": [
    "#nulls ages\n",
    "nb_null_age =df_membre.AGE.isnull().sum()\n",
    "percent_null_age = df_membre.AGE.isnull().sum() / df_membre.shape[0] * 100\n",
    "\n",
    "\n",
    "print('nb de membres avec age manquante: ',nb_null_age)\n",
    "print('pourcentage de la bae de donnees avec age manquante: ',percent_null_age)\n"
   ]
  },
  {
   "cell_type": "code",
   "execution_count": 16,
   "id": "effd27d6",
   "metadata": {},
   "outputs": [],
   "source": [
    "#comme AGE est une variable socio demographique, on ne va pas l'utiliser dans la segmentation\n",
    "#sera effacée dans le fichier de segmentation avant la segmentation manuelle et segmetation kmeans\n",
    "#df_membre.drop('AGE', axis=1, inplace=True)"
   ]
  },
  {
   "cell_type": "markdown",
   "id": "97ae93a9",
   "metadata": {},
   "source": [
    "## <span style='background :yellow' > Variable GENDER </span>"
   ]
  },
  {
   "cell_type": "code",
   "execution_count": 17,
   "id": "e0e07aea",
   "metadata": {},
   "outputs": [
    {
     "data": {
      "text/plain": [
       "F      478506\n",
       "NaN    400289\n",
       "M      324190\n",
       "Name: GENDER, dtype: int64"
      ]
     },
     "execution_count": 17,
     "metadata": {},
     "output_type": "execute_result"
    }
   ],
   "source": [
    "df_membre.GENDER.value_counts(dropna=False)"
   ]
  },
  {
   "cell_type": "code",
   "execution_count": 18,
   "id": "1af773a4",
   "metadata": {},
   "outputs": [],
   "source": [
    "#comme GENDER est une variable socio demographique, on ne va pas l'utiliser dans la segmentation\n",
    "#sera effacée dans le fichier de segmentation avant la segmentation manuelle et segmetation kmeans\n",
    "#df_membre.drop('GENDER', axis=1, inplace=True)"
   ]
  },
  {
   "cell_type": "markdown",
   "id": "62707f4c",
   "metadata": {},
   "source": [
    "## <span style='background :yellow' > Variable LANGUAGE </span>"
   ]
  },
  {
   "cell_type": "code",
   "execution_count": 19,
   "id": "706fac1d",
   "metadata": {},
   "outputs": [
    {
     "data": {
      "text/plain": [
       "E      994936\n",
       "F      207898\n",
       "NaN       151\n",
       "Name: LANGUAGE, dtype: int64"
      ]
     },
     "execution_count": 19,
     "metadata": {},
     "output_type": "execute_result"
    }
   ],
   "source": [
    "df_membre.LANGUAGE.value_counts(dropna=False)"
   ]
  },
  {
   "cell_type": "code",
   "execution_count": 20,
   "id": "3a71c5fb",
   "metadata": {},
   "outputs": [],
   "source": [
    "#comme LANGAGE est une variable socio demographique, on ne va pas l'utiliser dans la segmentation\n",
    "df_membre.drop('LANGUAGE', axis=1, inplace=True)"
   ]
  },
  {
   "cell_type": "markdown",
   "id": "c2efd0c6",
   "metadata": {},
   "source": [
    "## <span style='background :yellow' > Variable SMALL_BUSINESS_FLAG </span>"
   ]
  },
  {
   "cell_type": "code",
   "execution_count": 21,
   "id": "22098dba",
   "metadata": {},
   "outputs": [
    {
     "data": {
      "text/plain": [
       "N    1202985\n",
       "Name: SMALL_BUSINESS_FLAG, dtype: int64"
      ]
     },
     "execution_count": 21,
     "metadata": {},
     "output_type": "execute_result"
    }
   ],
   "source": [
    "df_membre.SMALL_BUSINESS_FLAG.value_counts(dropna=False)"
   ]
  },
  {
   "cell_type": "code",
   "execution_count": 22,
   "id": "e6481e46",
   "metadata": {},
   "outputs": [],
   "source": [
    "# Variable SMALL_BUSINESS_FLAG n'apporte aucune information, on ne va pas l'utiliser dans la segmentation\n",
    "df_membre.drop('SMALL_BUSINESS_FLAG', axis=1, inplace=True)"
   ]
  },
  {
   "cell_type": "markdown",
   "id": "46f8f455",
   "metadata": {},
   "source": [
    "## <span style='background :yellow' > Variable TENURE_MONTHS </span>"
   ]
  },
  {
   "cell_type": "code",
   "execution_count": 23,
   "id": "2b8aa6f6",
   "metadata": {},
   "outputs": [
    {
     "name": "stdout",
     "output_type": "stream",
     "text": [
      "min :  0\n",
      "max :  372\n",
      "Air Miles a ete Lancé au Canada en 1992\n",
      "anciennete en mois airmiles:  372\n"
     ]
    }
   ],
   "source": [
    "min_TM = df_membre['TENURE_MONTHS'].min()\n",
    "max_TM = df_membre['TENURE_MONTHS'].max()\n",
    "\n",
    "print('min : ',min_TM)\n",
    "print('max : ',max_TM)\n",
    "print('Air Miles a ete Lancé au Canada en 1992')\n",
    "print('anciennete en mois airmiles: ',(2023-1992)*12)"
   ]
  },
  {
   "cell_type": "code",
   "execution_count": 24,
   "id": "19d7bf3b",
   "metadata": {},
   "outputs": [
    {
     "data": {
      "text/plain": [
       "304    13387\n",
       "254    12837\n",
       "369    12637\n",
       "368    12467\n",
       "299    12258\n",
       "       ...  \n",
       "371        2\n",
       "9          1\n",
       "7          1\n",
       "2          1\n",
       "372        1\n",
       "Name: TENURE_MONTHS, Length: 370, dtype: int64"
      ]
     },
     "execution_count": 24,
     "metadata": {},
     "output_type": "execute_result"
    }
   ],
   "source": [
    "df_membre.TENURE_MONTHS.value_counts(dropna=False)"
   ]
  },
  {
   "cell_type": "markdown",
   "id": "7af454aa",
   "metadata": {},
   "source": [
    "## <span style='background :yellow' > Variable PROV </span>\n"
   ]
  },
  {
   "cell_type": "code",
   "execution_count": 25,
   "id": "1214ee44",
   "metadata": {},
   "outputs": [
    {
     "data": {
      "text/plain": [
       "ON    34.944908\n",
       "QC    20.933594\n",
       "AB    11.687511\n",
       "BC    10.265880\n",
       "NaN    6.140642\n",
       "NS     4.014015\n",
       "MB     3.809441\n",
       "NB     2.873103\n",
       "SK     2.644089\n",
       "NL     2.022220\n",
       "PE     0.554038\n",
       "NT     0.054697\n",
       "YT     0.040981\n",
       "NU     0.014880\n",
       "Name: PROV, dtype: float64"
      ]
     },
     "execution_count": 25,
     "metadata": {},
     "output_type": "execute_result"
    }
   ],
   "source": [
    "df_membre.PROV.value_counts(dropna=False) / df_membre.shape[0] * 100 "
   ]
  },
  {
   "cell_type": "code",
   "execution_count": 26,
   "id": "5930ca64",
   "metadata": {},
   "outputs": [],
   "source": [
    "#comme PROVINCE est une variable socio demographique, on ne va pas l'utiliser dans la segmentation\n",
    "#sera effacée dans le fichier de segmentation avant la segmentation manuelle et segmetation kmeans\n",
    "#df_membre.drop('PROV', axis=1, inplace=True)"
   ]
  },
  {
   "cell_type": "markdown",
   "id": "3db9fbf3",
   "metadata": {},
   "source": [
    "## <span style='background :yellow' > Variable CASH_BACK_POINTS_BALANCE </span>\n",
    "\n",
    "Nombre de points actuellement dans le compte pour des remises en argent.\n"
   ]
  },
  {
   "cell_type": "code",
   "execution_count": 27,
   "id": "58ee8221",
   "metadata": {},
   "outputs": [
    {
     "name": "stdout",
     "output_type": "stream",
     "text": [
      "min CASH_BACK_POINTS_BALANCE:  -17080\n",
      "max CASH_BACK_POINTS_BALANCE:  157002\n",
      "Nombre de lignes avec des balance de points cash back négatives:  64\n"
     ]
    }
   ],
   "source": [
    "min_CBPB =df_membre[\"CASH_BACK_POINTS_BALANCE\"].min()\n",
    "max_CBPB =df_membre[\"CASH_BACK_POINTS_BALANCE\"].max()\n",
    "nb_CBPB_neg = df_membre[df_membre[\"CASH_BACK_POINTS_BALANCE\"] < 0].shape[0]\n",
    "print('min CASH_BACK_POINTS_BALANCE: ',min_CBPB)\n",
    "print('max CASH_BACK_POINTS_BALANCE: ',max_CBPB)\n",
    "print('Nombre de lignes avec des balance de points cash back négatives: ',nb_CBPB_neg)"
   ]
  },
  {
   "cell_type": "markdown",
   "id": "6b1e02eb",
   "metadata": {},
   "source": [
    "## <span style='background :yellow' > Variable REWARD_POINTS_BALANCE </span>"
   ]
  },
  {
   "cell_type": "code",
   "execution_count": 28,
   "id": "ba60722a",
   "metadata": {},
   "outputs": [
    {
     "name": "stdout",
     "output_type": "stream",
     "text": [
      "min REWARD_POINTS_BALANCE:  -16457\n",
      "max REWARD_POINTS_BALANCE:  982394\n",
      "Nombre de lignes avec des balance de points reward négatives:  50\n"
     ]
    }
   ],
   "source": [
    "min_RPB = df_membre['REWARD_POINTS_BALANCE'].min()\n",
    "max_RPB = df_membre['REWARD_POINTS_BALANCE'].max()\n",
    "nb_RPB_neg = df_membre[df_membre['REWARD_POINTS_BALANCE']<0].shape[0]\n",
    "print('min REWARD_POINTS_BALANCE: ',min_RPB)\n",
    "print('max REWARD_POINTS_BALANCE: ',max_RPB)\n",
    "print('Nombre de lignes avec des balance de points reward négatives: ',nb_RPB_neg)"
   ]
  },
  {
   "cell_type": "markdown",
   "id": "afc32957",
   "metadata": {},
   "source": [
    "## <span style='background :yellow' > Variable EMAILABLE_FLAG </span>"
   ]
  },
  {
   "cell_type": "code",
   "execution_count": 29,
   "id": "66e50681",
   "metadata": {},
   "outputs": [
    {
     "data": {
      "text/plain": [
       "Y      489998\n",
       "N      471821\n",
       "NaN    241166\n",
       "Name: EMAILABLE_FLAG, dtype: int64"
      ]
     },
     "execution_count": 29,
     "metadata": {},
     "output_type": "execute_result"
    }
   ],
   "source": [
    "df_membre.EMAILABLE_FLAG.value_counts(dropna=False)"
   ]
  },
  {
   "cell_type": "code",
   "execution_count": 30,
   "id": "cab839d4",
   "metadata": {},
   "outputs": [],
   "source": [
    "#on ne va pas l'utiliser dans la segmentation mais elle peut etre utilse pour le mandat \n",
    "df_membre.drop('EMAILABLE_FLAG', axis=1, inplace=True)"
   ]
  },
  {
   "cell_type": "markdown",
   "id": "338321e6",
   "metadata": {},
   "source": [
    "## <span style='background :yellow' > Variable MAILABLE_FLAG </span>"
   ]
  },
  {
   "cell_type": "code",
   "execution_count": 31,
   "id": "57fe5c5f",
   "metadata": {},
   "outputs": [
    {
     "data": {
      "text/plain": [
       "Y    1060413\n",
       "N     142572\n",
       "Name: MAILABLE_FLAG, dtype: int64"
      ]
     },
     "execution_count": 31,
     "metadata": {},
     "output_type": "execute_result"
    }
   ],
   "source": [
    "df_membre.MAILABLE_FLAG.value_counts(dropna=False)"
   ]
  },
  {
   "cell_type": "code",
   "execution_count": 32,
   "id": "dd09b551",
   "metadata": {},
   "outputs": [],
   "source": [
    "#on ne va pas l'utiliser dans la segmentation mais elle peut etre utilse pour le mandat \n",
    "df_membre.drop('MAILABLE_FLAG', axis=1, inplace=True)"
   ]
  },
  {
   "cell_type": "code",
   "execution_count": null,
   "id": "4f7d6572",
   "metadata": {},
   "outputs": [],
   "source": []
  },
  {
   "cell_type": "code",
   "execution_count": 33,
   "id": "a6aedf37",
   "metadata": {},
   "outputs": [
    {
     "data": {
      "text/plain": [
       "MEMBER_ID                        0\n",
       "AGE                         175001\n",
       "GENDER                      400289\n",
       "TENURE_MONTHS                    0\n",
       "PROV                         73871\n",
       "CASH_BACK_POINTS_BALANCE         0\n",
       "REWARD_POINTS_BALANCE            0\n",
       "dtype: int64"
      ]
     },
     "execution_count": 33,
     "metadata": {},
     "output_type": "execute_result"
    }
   ],
   "source": [
    "df_membre.isnull().sum()"
   ]
  },
  {
   "cell_type": "code",
   "execution_count": 34,
   "id": "5710e057",
   "metadata": {},
   "outputs": [
    {
     "data": {
      "text/plain": [
       "MEMBER_ID                     int64\n",
       "AGE                         float64\n",
       "GENDER                       object\n",
       "TENURE_MONTHS                 int64\n",
       "PROV                         object\n",
       "CASH_BACK_POINTS_BALANCE      int64\n",
       "REWARD_POINTS_BALANCE         int64\n",
       "dtype: object"
      ]
     },
     "execution_count": 34,
     "metadata": {},
     "output_type": "execute_result"
    }
   ],
   "source": [
    "df_membre.dtypes"
   ]
  },
  {
   "cell_type": "code",
   "execution_count": 35,
   "id": "8955dec7",
   "metadata": {},
   "outputs": [
    {
     "data": {
      "text/html": [
       "<div>\n",
       "<style scoped>\n",
       "    .dataframe tbody tr th:only-of-type {\n",
       "        vertical-align: middle;\n",
       "    }\n",
       "\n",
       "    .dataframe tbody tr th {\n",
       "        vertical-align: top;\n",
       "    }\n",
       "\n",
       "    .dataframe thead th {\n",
       "        text-align: right;\n",
       "    }\n",
       "</style>\n",
       "<table border=\"1\" class=\"dataframe\">\n",
       "  <thead>\n",
       "    <tr style=\"text-align: right;\">\n",
       "      <th></th>\n",
       "      <th>MEMBER_ID</th>\n",
       "      <th>AGE</th>\n",
       "      <th>GENDER</th>\n",
       "      <th>TENURE_MONTHS</th>\n",
       "      <th>PROV</th>\n",
       "      <th>CASH_BACK_POINTS_BALANCE</th>\n",
       "      <th>REWARD_POINTS_BALANCE</th>\n",
       "    </tr>\n",
       "  </thead>\n",
       "  <tbody>\n",
       "    <tr>\n",
       "      <th>0</th>\n",
       "      <td>859615</td>\n",
       "      <td>80.000000</td>\n",
       "      <td>M</td>\n",
       "      <td>362</td>\n",
       "      <td>ON</td>\n",
       "      <td>14</td>\n",
       "      <td>636</td>\n",
       "    </tr>\n",
       "    <tr>\n",
       "      <th>1</th>\n",
       "      <td>12684534</td>\n",
       "      <td>60.000000</td>\n",
       "      <td>F</td>\n",
       "      <td>256</td>\n",
       "      <td>MB</td>\n",
       "      <td>0</td>\n",
       "      <td>419</td>\n",
       "    </tr>\n",
       "    <tr>\n",
       "      <th>2</th>\n",
       "      <td>14130778</td>\n",
       "      <td>47.000000</td>\n",
       "      <td>F</td>\n",
       "      <td>236</td>\n",
       "      <td>QC</td>\n",
       "      <td>116</td>\n",
       "      <td>195</td>\n",
       "    </tr>\n",
       "    <tr>\n",
       "      <th>3</th>\n",
       "      <td>18899440</td>\n",
       "      <td>39.000000</td>\n",
       "      <td>NaN</td>\n",
       "      <td>185</td>\n",
       "      <td>QC</td>\n",
       "      <td>0</td>\n",
       "      <td>7</td>\n",
       "    </tr>\n",
       "    <tr>\n",
       "      <th>4</th>\n",
       "      <td>1011315776</td>\n",
       "      <td>NaN</td>\n",
       "      <td>NaN</td>\n",
       "      <td>47</td>\n",
       "      <td>NaN</td>\n",
       "      <td>0</td>\n",
       "      <td>0</td>\n",
       "    </tr>\n",
       "    <tr>\n",
       "      <th>...</th>\n",
       "      <td>...</td>\n",
       "      <td>...</td>\n",
       "      <td>...</td>\n",
       "      <td>...</td>\n",
       "      <td>...</td>\n",
       "      <td>...</td>\n",
       "      <td>...</td>\n",
       "    </tr>\n",
       "    <tr>\n",
       "      <th>1202980</th>\n",
       "      <td>1982154</td>\n",
       "      <td>67.000000</td>\n",
       "      <td>F</td>\n",
       "      <td>288</td>\n",
       "      <td>ON</td>\n",
       "      <td>0</td>\n",
       "      <td>1002</td>\n",
       "    </tr>\n",
       "    <tr>\n",
       "      <th>1202981</th>\n",
       "      <td>5806235</td>\n",
       "      <td>62.000000</td>\n",
       "      <td>F</td>\n",
       "      <td>351</td>\n",
       "      <td>QC</td>\n",
       "      <td>186</td>\n",
       "      <td>331</td>\n",
       "    </tr>\n",
       "    <tr>\n",
       "      <th>1202982</th>\n",
       "      <td>17171682</td>\n",
       "      <td>62.000000</td>\n",
       "      <td>NaN</td>\n",
       "      <td>209</td>\n",
       "      <td>ON</td>\n",
       "      <td>0</td>\n",
       "      <td>1828</td>\n",
       "    </tr>\n",
       "    <tr>\n",
       "      <th>1202983</th>\n",
       "      <td>18475293</td>\n",
       "      <td>33.000000</td>\n",
       "      <td>NaN</td>\n",
       "      <td>184</td>\n",
       "      <td>ON</td>\n",
       "      <td>14</td>\n",
       "      <td>932</td>\n",
       "    </tr>\n",
       "    <tr>\n",
       "      <th>1202984</th>\n",
       "      <td>1016118761</td>\n",
       "      <td>23.000000</td>\n",
       "      <td>M</td>\n",
       "      <td>43</td>\n",
       "      <td>ON</td>\n",
       "      <td>0</td>\n",
       "      <td>185</td>\n",
       "    </tr>\n",
       "  </tbody>\n",
       "</table>\n",
       "<p>1202985 rows × 7 columns</p>\n",
       "</div>"
      ],
      "text/plain": [
       "          MEMBER_ID       AGE GENDER  TENURE_MONTHS PROV  \\\n",
       "0            859615 80.000000      M            362   ON   \n",
       "1          12684534 60.000000      F            256   MB   \n",
       "2          14130778 47.000000      F            236   QC   \n",
       "3          18899440 39.000000    NaN            185   QC   \n",
       "4        1011315776       NaN    NaN             47  NaN   \n",
       "...             ...       ...    ...            ...  ...   \n",
       "1202980     1982154 67.000000      F            288   ON   \n",
       "1202981     5806235 62.000000      F            351   QC   \n",
       "1202982    17171682 62.000000    NaN            209   ON   \n",
       "1202983    18475293 33.000000    NaN            184   ON   \n",
       "1202984  1016118761 23.000000      M             43   ON   \n",
       "\n",
       "         CASH_BACK_POINTS_BALANCE  REWARD_POINTS_BALANCE  \n",
       "0                              14                    636  \n",
       "1                               0                    419  \n",
       "2                             116                    195  \n",
       "3                               0                      7  \n",
       "4                               0                      0  \n",
       "...                           ...                    ...  \n",
       "1202980                         0                   1002  \n",
       "1202981                       186                    331  \n",
       "1202982                         0                   1828  \n",
       "1202983                        14                    932  \n",
       "1202984                         0                    185  \n",
       "\n",
       "[1202985 rows x 7 columns]"
      ]
     },
     "execution_count": 35,
     "metadata": {},
     "output_type": "execute_result"
    }
   ],
   "source": [
    "df_membre"
   ]
  },
  {
   "cell_type": "code",
   "execution_count": 36,
   "id": "b9bee343",
   "metadata": {},
   "outputs": [],
   "source": [
    "output_to_csv = True\n"
   ]
  },
  {
   "cell_type": "code",
   "execution_count": 37,
   "id": "044250c5",
   "metadata": {},
   "outputs": [],
   "source": [
    "if output_to_csv:\n",
    "    df_membre.to_csv(\"DATA_PRETRAITEMENT/df_membre.csv\", index=False)"
   ]
  },
  {
   "cell_type": "code",
   "execution_count": null,
   "id": "83141d56",
   "metadata": {},
   "outputs": [],
   "source": []
  }
 ],
 "metadata": {
  "kernelspec": {
   "display_name": "Python 3",
   "language": "python",
   "name": "python3"
  },
  "language_info": {
   "codemirror_mode": {
    "name": "ipython",
    "version": 3
   },
   "file_extension": ".py",
   "mimetype": "text/x-python",
   "name": "python",
   "nbconvert_exporter": "python",
   "pygments_lexer": "ipython3",
   "version": "3.8.8"
  }
 },
 "nbformat": 4,
 "nbformat_minor": 5
}
